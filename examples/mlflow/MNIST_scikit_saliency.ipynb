{
 "cells": [
  {
   "cell_type": "markdown",
   "id": "265104e6",
   "metadata": {
    "tags": []
   },
   "source": [
    "# MNIST Dataset Example <a name=\"MNIST-Dataset-Example-mnist\"></a>\n",
    "## Set Up Environment <a name=\"Set-Up-Environment-mnist\"></a>\n",
    "**Note for Colab users**: after setting up the environment, you may need to \"Restart Runtime\" in order to resolve package version conflicts (see the [README](https://github.com/XAITK/xaitk-saliency/blob/master/examples/README.md#run-the-notebooks-from-colab) for more info)."
   ]
  },
  {
   "cell_type": "code",
   "execution_count": 1,
   "id": "322e6692",
   "metadata": {},
   "outputs": [],
   "source": [
    "import sys\n",
    "!{sys.executable} -m pip install -qU pip\n",
    "!{sys.executable} -m pip install -q xaitk-saliency"
   ]
  },
  {
   "cell_type": "markdown",
   "id": "c44e6e20",
   "metadata": {
    "jp-MarkdownHeadingCollapsed": true,
    "tags": []
   },
   "source": [
    "## Downloading the Dataset <a name=\"Download-the-Dataset-mnist\"></a>\n",
    "\n",
    "The MNIST dataset consists of 70,000 28x28 grayscale images of handwritten numbers.\n",
    "Each image is stored as a column vector, resulting in a (70000,784) shape for the entire dataset."
   ]
  },
  {
   "cell_type": "code",
   "execution_count": 1,
   "id": "e389b304",
   "metadata": {},
   "outputs": [
    {
     "data": {
      "image/png": "[encoded data removed]",
      "text/plain": [
       "<Figure size 1500x500 with 10 Axes>"
      ]
     },
     "metadata": {},
     "output_type": "display_data"
    }
   ],
   "source": [
    "from sklearn.datasets import fetch_openml\n",
    "import matplotlib.pyplot as plt\n",
    "import numpy as np\n",
    "import os\n",
    "\n",
    "cwd = os.getcwd()\n",
    "data_dir = cwd + '/data/scikit-learn-example'\n",
    "\n",
    "# Load data from https://www.openml.org/d/554\n",
    "X, y = fetch_openml('mnist_784', version=1, return_X_y=True, as_frame=False, data_home=data_dir)\n",
    "X = X/X.max()\n",
    "\n",
    "# Find examples of each class\n",
    "ref_inds = []\n",
    "for i in range(10):\n",
    "    ref_inds.append(np.where(np.int64(y) == i)[0][0])\n",
    "    \n",
    "ref_imgs = X[ref_inds]\n",
    "\n",
    "# Plot examples\n",
    "plt.figure(figsize=(15,5))\n",
    "for i in range(10):\n",
    "    plt.subplot(1, 10, i + 1)\n",
    "    plt.imshow(ref_imgs[i].reshape(28, 28), 'gray')\n",
    "    plt.axis('off')\n",
    "    "
   ]
  },
  {
   "attachments": {},
   "cell_type": "markdown",
   "id": "7cc5ef4a",
   "metadata": {},
   "source": [
    "## The \"Application\" <a name=\"The-Application-mnist\"></a>\n",
    "\n",
    "Our \"application\" will accept a set of images, a black-box image classifier, and a saliency generator and will generate saliency maps for each image provided.\n",
    "The saliency maps from the first image in the set will then be plotted to give an idea of the model's behavior on a single sample.\n",
    "\n",
    "Additionally, because all digits in the MNIST dataset are centered in the frame, we can average all the heatmaps generated for each respective class to produce a decision boundary visualization.\n",
    "The application will do this and plot the resulting averaged heatmaps for each digit class.\n",
    "This should compare to what is shown in the [first example](https://scikit-learn.org/stable/auto_examples/linear_model/plot_sparse_logistic_regression_mnist.html) discussed in the [introduction](#introduction)."
   ]
  },
  {
   "cell_type": "code",
   "execution_count": 2,
   "id": "047900b4",
   "metadata": {},
   "outputs": [],
   "source": [
    "from smqtk_classifier import ClassifyImage\n",
    "from xaitk_saliency import GenerateImageClassifierBlackboxSaliency\n",
    "\n",
    "def app(\n",
    "    images: np.ndarray,\n",
    "    image_classifier: ClassifyImage,\n",
    "    saliency_generator: GenerateImageClassifierBlackboxSaliency\n",
    "):  \n",
    "\n",
    "    # Generate saliency maps\n",
    "    sal_maps_set = []\n",
    "    for img in images:\n",
    "        ref_image = img.reshape(28, 28)\n",
    "        sal_maps = saliency_generator(ref_image, image_classifier)\n",
    "        sal_maps_set.append(sal_maps)\n",
    "    \n",
    "    num_classes = sal_maps_set[0].shape[0]\n",
    "    \n",
    "    # Plot first image in set with saliency maps\n",
    "    fig1 = plt.figure(figsize=(10,5))\n",
    "    plt.suptitle(\"Heatmaps for First Image\", fontsize=16)\n",
    "    num_cols = np.ceil(num_classes/2).astype(int) + 1\n",
    "    plt.subplot(2, num_cols, 1)\n",
    "    plt.imshow(images[0].reshape(28,28), cmap='gray')\n",
    "    plt.xticks(())\n",
    "    plt.yticks(())\n",
    "    \n",
    "    for c in range(num_cols - 1):\n",
    "        plt.subplot(2, num_cols, c + 2)\n",
    "        plt.imshow(sal_maps_set[0][c], cmap=plt.cm.RdBu, vmin=-1, vmax=1)\n",
    "        plt.xticks(())\n",
    "        plt.yticks(())\n",
    "        plt.xlabel(f\"Class {c}\")\n",
    "    for c in range(num_classes - num_cols + 1, num_classes):\n",
    "        plt.subplot(2, num_cols, c + 3)\n",
    "        plt.imshow(sal_maps_set[0][c], cmap=plt.cm.RdBu, vmin=-1, vmax=1)\n",
    "        plt.xticks(())\n",
    "        plt.yticks(())\n",
    "        plt.xlabel(f\"Class {c}\")\n",
    "    \n",
    "    # Average heatmaps for each respective class\n",
    "    global_maps = np.sum(sal_maps_set, axis=0) / len(images)\n",
    "    \n",
    "    # Plot average maps\n",
    "    fig2 = plt.figure(figsize=(10, 5))\n",
    "    plt.suptitle(\"Average Heatmaps from All Images\", fontsize=16)\n",
    "    for c in range(num_classes):\n",
    "        vcap = np.absolute(global_maps[i]).max()\n",
    "        plt.subplot(2, num_cols-1, c + 1)\n",
    "        plt.imshow(global_maps[c], cmap=plt.cm.RdBu, vmin=-vcap, vmax=vcap)\n",
    "        plt.xticks(())\n",
    "        plt.yticks(())\n",
    "        plt.xlabel(f\"Class {c}\")\n",
    "    return fig1, fig2, sal_maps_set"
   ]
  },
  {
   "attachments": {},
   "cell_type": "markdown",
   "id": "9759f8e2",
   "metadata": {},
   "source": [
    "## Heatmap Generation <a name=\"Heatmap-Generation-mnist\"></a>\n",
    "\n",
    "We create an instance of `SlidingWindowStack`, an implementation of the `GenerateImageClassifierBalckboxSaliency` interface, to carry out our image perturbation and heatmap generation."
   ]
  },
  {
   "cell_type": "code",
   "execution_count": 3,
   "id": "0b46e4e6",
   "metadata": {},
   "outputs": [],
   "source": [
    "from xaitk_saliency.impls.gen_image_classifier_blackbox_sal.slidingwindow import SlidingWindowStack\n",
    "\n",
    "gen_slidingWindow = SlidingWindowStack(\n",
    "    window_size=(2, 2),\n",
    "    stride=(1, 1),\n",
    "    threads=4\n",
    ")"
   ]
  },
  {
   "cell_type": "markdown",
   "id": "0e500cdd-093b-4f02-a427-485f2091c51d",
   "metadata": {},
   "source": [
    "# Logistic Regression Example <a name=\"Logistic-Regression-Example-mnist\"></a>\n",
    "## Fitting the Model <a name=\"Fitting-the-Model-logistic-mnist\"></a>\n",
    "\n",
    "We take the same `LogisticRegression` object used in the scikit-learn example and fit it to a subset of the dataset.\n",
    "Here, an L2 penalty and a larger training set is used to yield slightly better results than those shown in the example.\n",
    "The same visualization of the coefficients is shown with these new parameters."
   ]
  },
  {
   "cell_type": "code",
   "execution_count": 8,
   "id": "80ef7b64",
   "metadata": {},
   "outputs": [
    {
     "name": "stdout",
     "output_type": "stream",
     "text": [
      "Test score with L2 penalty: 0.8865\n",
      "Example run in 3.149 s\n"
     ]
    },
    {
     "data": {
      "image/png": "[encoded data removed]",
      "text/plain": [
       "<Figure size 1000x500 with 10 Axes>"
      ]
     },
     "metadata": {},
     "output_type": "display_data"
    }
   ],
   "source": [
    "import time\n",
    "from sklearn.model_selection import train_test_split\n",
    "from sklearn.linear_model import LogisticRegression\n",
    "import mlflow\n",
    "\n",
    "# def test_mlflow():\n",
    "t0 = time.time()\n",
    "\n",
    "# Split data into test and train sets\n",
    "train_samples = 20000\n",
    "\n",
    "X_train, X_test, y_train, y_test = train_test_split(\n",
    "    X, y, train_size=train_samples, test_size=10000, random_state=0)\n",
    "\n",
    "# Define model, lower C value gives higher regulation\n",
    "clf = LogisticRegression(\n",
    "    C=50. / train_samples, penalty='l2', solver='saga', tol=0.1, random_state=0\n",
    ")\n",
    "\n",
    "# Fit model\n",
    "clf.fit(X_train, y_train)\n",
    "\n",
    "# Score model\n",
    "score = clf.score(X_test, y_test)\n",
    "print(\"Test score with L2 penalty: %.4f\" % score)\n",
    "\n",
    "# Visualize coefficients\n",
    "coef = clf.coef_.copy()\n",
    "max_val = np.abs(coef).max()\n",
    "\n",
    "fig = plt.figure(figsize=(10, 5))\n",
    "for i in range(10):\n",
    "    p = plt.subplot(2, 5, i + 1)\n",
    "    p.imshow(coef[i].reshape(28, 28), cmap=plt.cm.RdBu,\n",
    "            vmin=-max_val, vmax=max_val)\n",
    "    p.set_xticks(())\n",
    "    p.set_yticks(())\n",
    "    p.set_xlabel('Class %i' % i)\n",
    "plt.suptitle('Classification vector for...')\n",
    "\n",
    "run_time = time.time() - t0\n",
    "print('Example run in %.3f s' % run_time)\n",
    "plt.show()\n",
    "\n",
    "# Sample mlflow run under Default Experiment\n",
    "mlflow.set_tracking_uri(\"http://localhost:5000\")\n",
    "with mlflow.start_run():\n",
    "    mlflow.log_param('model', 'Logistic Regression')\n",
    "    mlflow.log_metric('score', score)\n",
    "    mlflow.log_figure(fig,\"class_vector.png\")\n"
   ]
  },
  {
   "cell_type": "markdown",
   "id": "eeceae38",
   "metadata": {},
   "source": [
    "# MLP Example <a name=\"MLP-Example-mnist\"></a>\n",
    "## Fitting the Model <a name=\"Fitting-the-Model-mlp-mnist\"></a>\n",
    "\n",
    "Following the second [example](https://scikit-learn.org/stable/auto_examples/neural_networks/plot_mnist_filters.html#sphx-glr-auto-examples-neural-networks-plot-mnist-filters-py) from scikit-learn, we training an `MLPClassifier` on the MNIST dataset using the same hyperparameters.\n",
    "\n",
    "To shorten training time, the MLP has only one hidden layer with 50 nodes, and is only trained for 10 iterations, meaning the model does not converge."
   ]
  },
  {
   "cell_type": "code",
   "execution_count": 4,
   "id": "e2f41616",
   "metadata": {},
   "outputs": [
    {
     "name": "stdout",
     "output_type": "stream",
     "text": [
      "Iteration 1, loss = 0.32009978\n",
      "Iteration 2, loss = 0.15347534\n",
      "Iteration 3, loss = 0.11544755\n",
      "Iteration 4, loss = 0.09279764\n",
      "Iteration 5, loss = 0.07889367\n",
      "Iteration 6, loss = 0.07170497\n",
      "Iteration 7, loss = 0.06282111\n",
      "Iteration 8, loss = 0.05530788\n",
      "Iteration 9, loss = 0.04960484\n",
      "Iteration 10, loss = 0.04645355\n"
     ]
    }
   ],
   "source": [
    "import warnings\n",
    "from sklearn.exceptions import ConvergenceWarning\n",
    "from sklearn.neural_network import MLPClassifier\n",
    "from pprint import pprint\n",
    "import matplotlib.pyplot as plt\n",
    "from pathlib import Path\n",
    "\n",
    "# use the traditional train/test split\n",
    "X_train, X_test = X[:60000], X[60000:]\n",
    "y_train, y_test = y[:60000], y[60000:]\n",
    "\n",
    "params = {\"hidden_layer_sizes\" : (50,), \"max_iter\" : 10, \"alpha\": 1e-4,\n",
    "          \"solver\" :'sgd', \"verbose\": 10, \"random_state\": 1,\n",
    "          \"learning_rate_init\" : .1}\n",
    "\n",
    "mlp = MLPClassifier(**params)\n",
    "with warnings.catch_warnings():\n",
    "    warnings.filterwarnings(\"ignore\", category=ConvergenceWarning,\n",
    "                            module=\"sklearn\")\n",
    "    x = mlp.fit(X_train, y_train)\n",
    "\n"
   ]
  },
  {
   "attachments": {},
   "cell_type": "markdown",
   "id": "83fd27f9",
   "metadata": {},
   "source": [
    "## Black-Box Classifier <a name=\"Black-Box-Classifier-mlp-mnist\"/></a>\n",
    "\n",
    "We wrap our `MLPClassifier` object in [SMQTK-Classifier's](https://smqtk-classifier.readthedocs.io/en/stable/classifier_interfaces.html#classifyimage) `ClassifyImage` class to comply with the API's interface."
   ]
  },
  {
   "cell_type": "code",
   "execution_count": 5,
   "id": "d918a22c",
   "metadata": {},
   "outputs": [],
   "source": [
    "class MNISTClassifierMLP (ClassifyImage):\n",
    "    def get_labels(self):\n",
    "        return list(range(10))\n",
    "    \n",
    "    def classify_images(self, image_iter):\n",
    "        # Yes, \"images\" in this example case are really 1-dim (28*28=784).\n",
    "        # MLP input needs a (n_samples, n_features) matrix input.\n",
    "        images = np.asarray(list(image_iter))  # may fail because input is not consistent in shape\n",
    "        images = images.reshape(-1, 28*28)  # may fail because input was not the correct shape\n",
    "        return (\n",
    "            {idx: p_i for idx, p_i in zip(range(10), p)}\n",
    "            for p in mlp.predict_proba(images)\n",
    "        )\n",
    "    \n",
    "    # Required for implementation\n",
    "    def get_config(self):\n",
    "        return {}\n",
    "    \n",
    "image_classifier_mlp = MNISTClassifierMLP()"
   ]
  },
  {
   "attachments": {},
   "cell_type": "markdown",
   "id": "071a6715",
   "metadata": {},
   "source": [
    "## Calling the Application <a name=\"Calling-the-Application-mlp-mnist\"></a>\n",
    "\n",
    "We call our application again using the same image set and saliency generator, but this time using our MLP classifier.\n",
    "\n",
    "The results show mostly negative saliency, suggesting that the MLP model has learned where the pixels are *absent* for each class more than where they are *present*."
   ]
  },
  {
   "cell_type": "code",
   "execution_count": 6,
   "id": "15d0d56b",
   "metadata": {},
   "outputs": [
    {
     "data": {
      "image/png": "[encoded data removed]",
      "text/plain": [
       "<Figure size 1000x500 with 11 Axes>"
      ]
     },
     "metadata": {},
     "output_type": "display_data"
    },
    {
     "data": {
      "image/png": "[encoded data removed]",
      "text/plain": [
       "<Figure size 1000x500 with 10 Axes>"
      ]
     },
     "metadata": {},
     "output_type": "display_data"
    }
   ],
   "source": [
    "fig1, fig2, sal_maps = app(\n",
    "    X[0:20],\n",
    "    image_classifier_mlp,\n",
    "    gen_slidingWindow\n",
    ")"
   ]
  },
  {
   "cell_type": "code",
   "execution_count": 77,
   "id": "2d0c80a5",
   "metadata": {},
   "outputs": [],
   "source": [
    "import mlflow\n",
    "from mlflow import MlflowClient\n",
    "from mlflow.entities import ViewType\n",
    "import random\n",
    "from urllib.parse import urlparse\n",
    "import uuid\n",
    "from smqtk_classifier import ClassifyImage\n",
    "from xaitk_saliency import GenerateImageClassifierBlackboxSaliency\n",
    "import matplotlib.pyplot as plt\n",
    "\n",
    "class MLFlowXAI():\n",
    "\n",
    "    def __init__(self,unique_pipeline_id):\n",
    "        self.mlruns_path = \"./mlruns\"\n",
    "        self.framework = \"sklearn\"\n",
    "        self.version = \"v1\"\n",
    "        self.pipeline_uid = unique_pipeline_id\n",
    "        self.dataset = \"MNIST\"\n",
    "        self.datasplit = \"train\"\n",
    "        self.client = None\n",
    "        self.train_exp_id = None\n",
    "        self.train_run_id = None\n",
    "        self.eval_exp_id = None\n",
    "    \n",
    "    def init_experiment(self,experiment_name):\n",
    "\n",
    "        self.client = MlflowClient()\n",
    "        client = self.client\n",
    "\n",
    "        if not os.path.exists(self.mlruns_path):\n",
    "            os.makedirs(os.path.join(self.mlruns_path,\".trash\"))\n",
    "        \n",
    "        current_experiment = client.get_experiment_by_name(experiment_name)\n",
    "        \n",
    "        if current_experiment == None:\n",
    "            current_experiment_id = client.create_experiment(experiment_name,\n",
    "                                            tags={\"framework\": self.framework, \"version\": self.version, \"Pipeline_UID\": self.pipeline_uid})\n",
    "            client.set_experiment_tag(current_experiment_id, \"Experiment\", experiment_name)\n",
    "            experiment_id = current_experiment_id\n",
    "        else:\n",
    "            experiment_id = current_experiment.experiment_id\n",
    "        \n",
    "        experiment = client.get_experiment(experiment_id)\n",
    "        print(\"Name: {}\".format(experiment.name))\n",
    "        print(\"Experiment_id: {}\".format(experiment.experiment_id))\n",
    "        print(\"Artifact Location: {}\".format(experiment.artifact_location))\n",
    "        print(\"Tags: {}\".format(experiment.tags))\n",
    "        print(\"Lifecycle_stage: {}\".format(experiment.lifecycle_stage))\n",
    "\n",
    "        return experiment\n",
    "\n",
    "    def log_training(self, experiment_name):\n",
    "        \n",
    "        experiment = self.init_experiment(experiment_name=experiment_name)\n",
    "        \n",
    "        with mlflow.start_run(experiment_id=experiment.experiment_id, run_name=\"train_metrics\") as run:\n",
    "\n",
    "            # Assign train experiment and run IDs to class variables\n",
    "            self.train_exp_id = experiment.experiment_id\n",
    "            self.train_run_id = run.info.run_id\n",
    "\n",
    "            # Model parameters\n",
    "            mlflow.log_params(params)\n",
    "            \n",
    "            # Training loss\n",
    "            for epoch in x.loss_curve_:\n",
    "                mlflow.log_metric('Train loss',epoch)\n",
    "\n",
    "            # Set experiment tags\n",
    "            mlflow.set_tags(experiment.tags)\n",
    "            mlflow.set_tags({\"Dataset\": self.dataset})\n",
    "            \n",
    "            # Final model checkpoint\n",
    "            mlflow.sklearn.log_model(x, artifact_path=\"sklearn-model\")\n",
    "            \n",
    "            # Numpy array saved under artifacts\n",
    "            p = urlparse(experiment.artifact_location)\n",
    "            pth = os.path.abspath(os.path.join(p.netloc, p.path))\n",
    "            \n",
    "            np.save(os.path.join(pth,'XTrain.npy'),X_train)\n",
    "    \n",
    "    def log_conf_score(self, experiment_name):\n",
    "        \n",
    "        experiment = self.init_experiment(experiment_name=experiment_name)\n",
    "\n",
    "        p = urlparse(experiment.artifact_location)\n",
    "        pth = os.path.abspath(os.path.join(p.netloc, p.path))\n",
    "\n",
    "        self.eval_exp_id = experiment.experiment_id\n",
    "        \n",
    "        img_count = 0\n",
    "    \n",
    "        for i in sal_maps:\n",
    "            with mlflow.start_run(experiment_id=experiment.experiment_id,run_name=\"ImageID-\" + str(img_count) + \"_conf\") as run:\n",
    "                \n",
    "                mlflow.set_tags(experiment.tags)\n",
    "                \n",
    "                class_conf = []\n",
    "                for j in range(0,10):\n",
    "                    rand_conf = round(random.random(),2)\n",
    "                    class_conf.append(rand_conf)\n",
    "                \n",
    "                max_conf_class = class_conf.index(max(class_conf))\n",
    "                \n",
    "                mlflow.log_metric('top_confidence_score', max(class_conf))\n",
    "            \n",
    "                mlflow.set_tags({\"Image_id\": str(img_count), \"Top_conf_class\": max_conf_class, \"Class_conf\": class_conf, \"Dataset\": self.dataset, \"Datasplit\": self.datasplit, \"Train_exp_id\": self.get_train_exp_id(), \"Train_run_id\": self.get_train_run_id()})\n",
    "            \n",
    "            img_count += 1\n",
    "\n",
    "    def log_saliency_maps(self, experiment_name, image_id, eval_run_id):\n",
    "\n",
    "        experiment = self.init_experiment(experiment_name=experiment_name)\n",
    "\n",
    "        with mlflow.start_run(experiment_id=experiment.experiment_id,run_name=f\"ImageID-{image_id}_saliency_maps\") as run:\n",
    "        \n",
    "            mlflow.set_tags(experiment.tags)\n",
    "            mlflow.set_tags({\"Dataset\": self.dataset, \"Datasplit\": self.datasplit, \"Evaluation_exp_id\": self.get_eval_exp_id(), \"Evaluation_run_id\": eval_run_id})\n",
    "            \n",
    "            p = urlparse(experiment.artifact_location)\n",
    "            pth = os.path.abspath(os.path.join(p.netloc, p.path))\n",
    "            \n",
    "            img_count = 0\n",
    "            \n",
    "            smap_path = os.path.join(pth,'saliency_map_np_arrays')\n",
    "            if not os.path.exists(smap_path):\n",
    "                os.makedirs(smap_path)\n",
    "            \n",
    "            fig1, fig2, sal_maps = self.gen_saliency_maps(image_id,X[0:20],image_classifier_mlp,gen_slidingWindow)\n",
    "            \n",
    "            np.save(os.path.join(smap_path,'image-' + str(image_id) + '.npy'), sal_maps[image_id])\n",
    "            mlflow.log_artifact(smap_path)\n",
    "\n",
    "            # Saliency maps saved under artifacts\n",
    "            mlflow.log_figure(fig1,f'ImageID-{str(image_id)}_saliency_maps.png')\n",
    "            mlflow.log_figure(fig2,'Avg_saliency_maps.png')\n",
    "    \n",
    "    def query_run(self,filter_string,order_by):\n",
    "        \n",
    "        run = mlflow.search_runs(\n",
    "            experiment_ids=self.get_eval_exp_id(),\n",
    "            filter_string=filter_string,\n",
    "            run_view_type=ViewType.ACTIVE_ONLY,\n",
    "            order_by=order_by\n",
    "        )\n",
    "\n",
    "        return run\n",
    "\n",
    "    # xaitk \"app\" method modified to generate saliency maps for nth image in a given set.\n",
    "    \n",
    "    def gen_saliency_maps(self,\n",
    "        image_id: int,\n",
    "        images: np.ndarray,\n",
    "        image_classifier: ClassifyImage,\n",
    "        saliency_generator: GenerateImageClassifierBlackboxSaliency\n",
    "    ):  \n",
    "\n",
    "    # Generate saliency maps\n",
    "        sal_maps_set = []\n",
    "        for img in images:\n",
    "            ref_image = img.reshape(28, 28)\n",
    "            sal_maps = saliency_generator(ref_image, image_classifier)\n",
    "            sal_maps_set.append(sal_maps)\n",
    "        \n",
    "        num_classes = sal_maps_set[0].shape[0]\n",
    "        \n",
    "        # Plot nth image in set with saliency maps\n",
    "        fig1 = plt.figure(figsize=(10,5))\n",
    "        plt.suptitle(f\"Saliency Maps for Image_ID: {str(image_id)}\", fontsize=16)\n",
    "        num_cols = np.ceil(num_classes/2).astype(int) + 1\n",
    "        plt.subplot(2, num_cols, 1)\n",
    "        plt.imshow(images[image_id].reshape(28,28), cmap='gray')\n",
    "        plt.xticks(())\n",
    "        plt.yticks(())\n",
    "        \n",
    "        for c in range(num_cols - 1):\n",
    "            plt.subplot(2, num_cols, c + 2)\n",
    "            plt.imshow(sal_maps_set[image_id][c], cmap=plt.cm.RdBu, vmin=-1, vmax=1)\n",
    "            plt.xticks(())\n",
    "            plt.yticks(())\n",
    "            plt.xlabel(f\"Class {c}\")\n",
    "        for c in range(num_classes - num_cols + 1, num_classes):\n",
    "            plt.subplot(2, num_cols, c + 3)\n",
    "            plt.imshow(sal_maps_set[image_id][c], cmap=plt.cm.RdBu, vmin=-1, vmax=1)\n",
    "            plt.xticks(())\n",
    "            plt.yticks(())\n",
    "            plt.xlabel(f\"Class {c}\")\n",
    "        plt.close(fig1)        \n",
    "        # Average heatmaps for each respective class\n",
    "        global_maps = np.sum(sal_maps_set, axis=0) / len(images)\n",
    "        \n",
    "        # Plot average maps\n",
    "        fig2 = plt.figure(figsize=(10, 5))\n",
    "        plt.suptitle(\"Average Saliency Maps from All Images\", fontsize=16)\n",
    "        for c in range(num_classes):\n",
    "            vcap = np.absolute(global_maps[i]).max()\n",
    "            plt.subplot(2, num_cols-1, c + 1)\n",
    "            plt.imshow(global_maps[c], cmap=plt.cm.RdBu, vmin=-vcap, vmax=vcap)\n",
    "            plt.xticks(())\n",
    "            plt.yticks(())\n",
    "            plt.xlabel(f\"Class {c}\")\n",
    "        plt.close(fig2)\n",
    "        \n",
    "        return fig1, fig2, sal_maps_set\n",
    "\n",
    "    def get_train_run_id(self):\n",
    "        return self.train_run_id\n",
    "    \n",
    "    def get_train_exp_id(self):\n",
    "        return self.train_exp_id\n",
    "\n",
    "    def get_eval_exp_id(self):\n",
    "        return self.eval_exp_id"
   ]
  },
  {
   "cell_type": "code",
   "execution_count": 78,
   "id": "01eae2f8",
   "metadata": {},
   "outputs": [
    {
     "name": "stdout",
     "output_type": "stream",
     "text": [
      "Unique experiment pipeline ID: 29453dac-8d3a-11ed-8b36-891896653031\n"
     ]
    }
   ],
   "source": [
    "# Generate a unique experiment id that is accessible across the end-to-end pipeline.\n",
    "\n",
    "unique_pipeline_id = uuid.uuid1()\n",
    "print(f\"Unique experiment pipeline ID: {str(unique_pipeline_id)}\")\n",
    "\n",
    "# Create an MLFlowXAI object using the unique experiment ID\n",
    "\n",
    "MLFlowXAIobj = MLFlowXAI(unique_pipeline_id)"
   ]
  },
  {
   "cell_type": "code",
   "execution_count": 79,
   "id": "126e49fb",
   "metadata": {},
   "outputs": [
    {
     "name": "stdout",
     "output_type": "stream",
     "text": [
      "Name: MLP Classifier- Train\n",
      "Experiment_id: 766108724242998153\n",
      "Artifact Location: file:///data/barry.ravichandran/XAITK/xaitk-cdao/examples/mlflow/mlruns/766108724242998153\n",
      "Tags: {'version': 'v1', 'Pipeline_UID': '29453dac-8d3a-11ed-8b36-891896653031', 'framework': 'sklearn', 'Experiment': 'MLP Classifier- Train'}\n",
      "Lifecycle_stage: active\n"
     ]
    }
   ],
   "source": [
    "# Log training metrics for the trained sklearn MLP Classifier\n",
    "\n",
    "MLFlowXAIobj.log_training(\"MLP Classifier- Train\")"
   ]
  },
  {
   "cell_type": "code",
   "execution_count": 80,
   "id": "273e2053",
   "metadata": {},
   "outputs": [
    {
     "name": "stdout",
     "output_type": "stream",
     "text": [
      "Name: MLP Classifier- Evaluation\n",
      "Experiment_id: 706853578827398420\n",
      "Artifact Location: file:///data/barry.ravichandran/XAITK/xaitk-cdao/examples/mlflow/mlruns/706853578827398420\n",
      "Tags: {'version': 'v1', 'Pipeline_UID': '29453dac-8d3a-11ed-8b36-891896653031', 'framework': 'sklearn', 'Experiment': 'MLP Classifier- Evaluation'}\n",
      "Lifecycle_stage: active\n"
     ]
    }
   ],
   "source": [
    "# Log per image confidence scores (currently using random values for conf scores)\n",
    "\n",
    "MLFlowXAIobj.log_conf_score(\"MLP Classifier- Evaluation\")"
   ]
  },
  {
   "cell_type": "code",
   "execution_count": 81,
   "id": "b4a1aa82",
   "metadata": {},
   "outputs": [],
   "source": [
    "# Filter and query based on tag(s) and metric(s) of choice\n",
    "\n",
    "filter_string = f\"metrics.top_confidence_score >= 0.6 and tags.Top_conf_class = '3'\"\n",
    "order_by = [\"metrics.top_confidence_score DESC\"]\n",
    "\n",
    "queried_runs = MLFlowXAIobj.query_run(filter_string=filter_string,order_by=order_by)"
   ]
  },
  {
   "cell_type": "code",
   "execution_count": 82,
   "id": "96efd66d",
   "metadata": {},
   "outputs": [
    {
     "name": "stdout",
     "output_type": "stream",
     "text": [
      "Name: MLP Classifier - Saliency Map Generation\n",
      "Experiment_id: 371939693661139171\n",
      "Artifact Location: file:///data/barry.ravichandran/XAITK/xaitk-cdao/examples/mlflow/mlruns/371939693661139171\n",
      "Tags: {'version': 'v1', 'Pipeline_UID': '29453dac-8d3a-11ed-8b36-891896653031', 'framework': 'sklearn', 'Experiment': 'MLP Classifier - Saliency Map Generation'}\n",
      "Lifecycle_stage: active\n"
     ]
    }
   ],
   "source": [
    "# Generate and log saliency maps for the queried image id and store the corresponding run id from the scoring stage.\n",
    "\n",
    "top_confScore_imgID = int(queried_runs[\"tags.Image_id\"][0])\n",
    "top_confScore_runID = str(queried_runs[\"run_id\"][0])\n",
    "\n",
    "MLFlowXAIobj.log_saliency_maps(\"MLP Classifier - Saliency Map Generation\", top_confScore_imgID, top_confScore_runID)"
   ]
  }
 ],
 "metadata": {
  "kernelspec": {
   "display_name": "Python 3.9.15",
   "language": "python",
   "name": "python3"
  },
  "language_info": {
   "codemirror_mode": {
    "name": "ipython",
    "version": 3
   },
   "file_extension": ".py",
   "mimetype": "text/x-python",
   "name": "python",
   "nbconvert_exporter": "python",
   "pygments_lexer": "ipython3",
   "version": "3.9.15"
  },
  "vscode": {
   "interpreter": {
    "hash": "fbdab46330d6ba927d7dfa648d910d1db5bcb763d6608147feb13c522efcb8eb"
   }
  }
 },
 "nbformat": 4,
 "nbformat_minor": 5
}
