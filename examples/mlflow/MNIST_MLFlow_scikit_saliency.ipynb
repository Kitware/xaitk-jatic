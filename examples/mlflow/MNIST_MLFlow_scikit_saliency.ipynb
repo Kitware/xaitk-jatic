{
 "cells": [
  {
   "cell_type": "markdown",
   "id": "265104e6",
   "metadata": {
    "tags": []
   },
   "source": [
    "# MNIST Dataset Example <a name=\"MNIST-Dataset-Example-mnist\"></a>\n",
    "This example extends the scikit-learn notebook found in the base ``xaitk-saliency`` repo [here](https://github.com/XAITK/xaitk-saliency/blob/master/examples/MNIST_scikit_saliency.ipynb), and explores integrating ``xaitk-saliency`` with ``MLFlow`` to track model metrics and saliency maps.\n",
    "\n",
    "## Set Up Environment <a name=\"Set-Up-Environment-mnist\"></a>"
   ]
  },
  {
   "cell_type": "code",
   "execution_count": 1,
   "id": "322e6692",
   "metadata": {},
   "outputs": [],
   "source": [
    "import sys\n",
    "!{sys.executable} -m pip install -qU pip\n",
    "!{sys.executable} -m pip install -q xaitk-saliency\n",
    "!{sys.executable} -m pip install -q mlflow==1.30.0"
   ]
  },
  {
   "cell_type": "markdown",
   "id": "c44e6e20",
   "metadata": {
    "jp-MarkdownHeadingCollapsed": true,
    "tags": []
   },
   "source": [
    "## Downloading the Dataset <a name=\"Download-the-Dataset-mnist\"></a>\n",
    "\n",
    "The MNIST dataset consists of 70,000 28x28 grayscale images of handwritten numbers.\n",
    "Each image is stored as a column vector, resulting in a (70000,784) shape for the entire dataset."
   ]
  },
  {
   "cell_type": "code",
   "execution_count": 2,
   "id": "e389b304",
   "metadata": {},
   "outputs": [
    {
     "data": {
      "image/png": "[encoded data removed]",
      "text/plain": [
       "<Figure size 1080x360 with 10 Axes>"
      ]
     },
     "metadata": {
      "needs_background": "light"
     },
     "output_type": "display_data"
    }
   ],
   "source": [
    "from sklearn.datasets import fetch_openml\n",
    "import matplotlib.pyplot as plt\n",
    "import numpy as np\n",
    "import os\n",
    "\n",
    "cwd = os.getcwd()\n",
    "data_dir = cwd + '/data/scikit-learn-example'\n",
    "\n",
    "# Load data from https://www.openml.org/d/554\n",
    "X, y = fetch_openml('mnist_784', version=1, return_X_y=True, as_frame=False, data_home=data_dir)\n",
    "X = X/X.max()\n",
    "\n",
    "# Find examples of each class\n",
    "ref_inds = []\n",
    "for i in range(10):\n",
    "    ref_inds.append(np.where(np.int64(y) == i)[0][0])\n",
    "    \n",
    "ref_imgs = X[ref_inds]\n",
    "\n",
    "# Plot examples\n",
    "plt.figure(figsize=(15,5))\n",
    "for i in range(10):\n",
    "    plt.subplot(1, 10, i + 1)\n",
    "    plt.imshow(ref_imgs[i].reshape(28, 28), 'gray')\n",
    "    plt.axis('off')\n",
    "    "
   ]
  },
  {
   "cell_type": "markdown",
   "id": "abbccd99",
   "metadata": {},
   "source": [
    "# MLP Example <a name=\"MLP-Example-mnist\"></a>\n",
    "## Fitting the Model <a name=\"Fitting-the-Model-mlp-mnist\"></a>\n",
    "\n",
    "Following the second [example](https://scikit-learn.org/stable/auto_examples/neural_networks/plot_mnist_filters.html#sphx-glr-auto-examples-neural-networks-plot-mnist-filters-py) from scikit-learn, we train an `MLPClassifier` on the MNIST dataset using the same hyperparameters.\n",
    "\n",
    "To shorten training time, the MLP has only one hidden layer with 50 nodes, and is only trained for 10 iterations, meaning the model does not entirely converge."
   ]
  },
  {
   "cell_type": "code",
   "execution_count": 3,
   "id": "dd047581",
   "metadata": {},
   "outputs": [
    {
     "name": "stdout",
     "output_type": "stream",
     "text": [
      "Iteration 1, loss = 0.32009978\n",
      "Iteration 2, loss = 0.15347534\n",
      "Iteration 3, loss = 0.11544755\n",
      "Iteration 4, loss = 0.09279764\n",
      "Iteration 5, loss = 0.07889367\n",
      "Iteration 6, loss = 0.07170497\n",
      "Iteration 7, loss = 0.06282111\n",
      "Iteration 8, loss = 0.05530788\n",
      "Iteration 9, loss = 0.04960484\n",
      "Iteration 10, loss = 0.04645355\n"
     ]
    }
   ],
   "source": [
    "import warnings\n",
    "from sklearn.exceptions import ConvergenceWarning\n",
    "from sklearn.neural_network import MLPClassifier\n",
    "from pprint import pprint\n",
    "import matplotlib.pyplot as plt\n",
    "from pathlib import Path\n",
    "\n",
    "# use the traditional train/test split\n",
    "X_train, X_test = X[:60000], X[60000:]\n",
    "y_train, y_test = y[:60000], y[60000:]\n",
    "\n",
    "params = {\"hidden_layer_sizes\" : (50,), \"max_iter\" : 10, \"alpha\": 1e-4,\n",
    "          \"solver\" :'sgd', \"verbose\": 10, \"random_state\": 1,\n",
    "          \"learning_rate_init\" : .1}\n",
    "\n",
    "mlp = MLPClassifier(**params)\n",
    "with warnings.catch_warnings():\n",
    "    warnings.filterwarnings(\"ignore\", category=ConvergenceWarning,\n",
    "                            module=\"sklearn\")\n",
    "    x = mlp.fit(X_train, y_train)\n",
    "\n"
   ]
  },
  {
   "cell_type": "markdown",
   "id": "64d2023a",
   "metadata": {},
   "source": [
    "## Black-Box Classifier <a name=\"Black-Box-Classifier-mlp-mnist\"/></a>\n",
    "\n",
    "We wrap our `MLPClassifier` object in [SMQTK-Classifier's](https://smqtk-classifier.readthedocs.io/en/stable/classifier_interfaces.html#classifyimage) `ClassifyImage` class to comply with the API's interface."
   ]
  },
  {
   "cell_type": "code",
   "execution_count": 4,
   "id": "95517a24",
   "metadata": {},
   "outputs": [],
   "source": [
    "from smqtk_classifier.interfaces.classify_image import ClassifyImage\n",
    "\n",
    "class MNISTClassifierMLP (ClassifyImage):\n",
    "    def get_labels(self):\n",
    "        return list(range(10))\n",
    "    \n",
    "    def classify_images(self, image_iter):\n",
    "        # Yes, \"images\" in this example case are really 1-dim (28*28=784).\n",
    "        # MLP input needs a (n_samples, n_features) matrix input.\n",
    "        images = np.asarray(list(image_iter))  # may fail because input is not consistent in shape\n",
    "        images = images.reshape(-1, 28*28)  # may fail because input was not the correct shape\n",
    "        return (\n",
    "            {idx: p_i for idx, p_i in zip(range(10), p)}\n",
    "            for p in mlp.predict_proba(images)\n",
    "        )\n",
    "    \n",
    "    # Required for implementation\n",
    "    def get_config(self):\n",
    "        return {}\n",
    "    \n",
    "image_classifier_mlp = MNISTClassifierMLP()"
   ]
  },
  {
   "cell_type": "markdown",
   "id": "7cc5ef4a",
   "metadata": {},
   "source": [
    "## The \"Application\" <a name=\"The-Application-mnist\"></a>\n",
    "\n",
    "Our \"application\" will accept a set of images, a black-box image classifier, and a saliency generator and will generate saliency maps for each image provided.\n",
    "The saliency maps from the first image in the set will then be plotted to give an idea of the model's behavior on a single sample.\n",
    "\n",
    "Additionally, because all digits in the MNIST dataset are centered in the frame, we can average all the heatmaps generated for each respective class to produce a decision boundary visualization.\n",
    "The application will do this and plot the resulting averaged heatmaps for each digit class."
   ]
  },
  {
   "cell_type": "code",
   "execution_count": 5,
   "id": "047900b4",
   "metadata": {},
   "outputs": [],
   "source": [
    "from xaitk_saliency.interfaces.gen_image_classifier_blackbox_sal import GenerateImageClassifierBlackboxSaliency\n",
    "\n",
    "def app(\n",
    "    images: np.ndarray,\n",
    "    image_classifier: ClassifyImage,\n",
    "    saliency_generator: GenerateImageClassifierBlackboxSaliency\n",
    "):  \n",
    "\n",
    "    # Generate saliency maps\n",
    "    sal_maps_set = []\n",
    "    for img in images:\n",
    "        ref_image = img.reshape(28, 28)\n",
    "        sal_maps = saliency_generator(ref_image, image_classifier)\n",
    "        sal_maps_set.append(sal_maps)\n",
    "    \n",
    "    num_classes = sal_maps_set[0].shape[0]\n",
    "    \n",
    "    # Plot first image in set with saliency maps\n",
    "    fig1 = plt.figure(figsize=(10,5))\n",
    "    plt.suptitle(\"Heatmaps for First Image\", fontsize=16)\n",
    "    num_cols = np.ceil(num_classes/2).astype(int) + 1\n",
    "    plt.subplot(2, num_cols, 1)\n",
    "    plt.imshow(images[0].reshape(28,28), cmap='gray')\n",
    "    plt.xticks(())\n",
    "    plt.yticks(())\n",
    "    \n",
    "    for c in range(num_cols - 1):\n",
    "        plt.subplot(2, num_cols, c + 2)\n",
    "        plt.imshow(sal_maps_set[0][c], cmap=plt.cm.RdBu, vmin=-1, vmax=1)\n",
    "        plt.xticks(())\n",
    "        plt.yticks(())\n",
    "        plt.xlabel(f\"Class {c}\")\n",
    "    for c in range(num_classes - num_cols + 1, num_classes):\n",
    "        plt.subplot(2, num_cols, c + 3)\n",
    "        plt.imshow(sal_maps_set[0][c], cmap=plt.cm.RdBu, vmin=-1, vmax=1)\n",
    "        plt.xticks(())\n",
    "        plt.yticks(())\n",
    "        plt.xlabel(f\"Class {c}\")\n",
    "    \n",
    "    # Average heatmaps for each respective class\n",
    "    global_maps = np.sum(sal_maps_set, axis=0) / len(images)\n",
    "    \n",
    "    # Plot average maps\n",
    "    fig2 = plt.figure(figsize=(10, 5))\n",
    "    plt.suptitle(\"Average Heatmaps from All Images\", fontsize=16)\n",
    "    for c in range(num_classes):\n",
    "        vcap = np.absolute(global_maps[i]).max()\n",
    "        plt.subplot(2, num_cols-1, c + 1)\n",
    "        plt.imshow(global_maps[c], cmap=plt.cm.RdBu, vmin=-vcap, vmax=vcap)\n",
    "        plt.xticks(())\n",
    "        plt.yticks(())\n",
    "        plt.xlabel(f\"Class {c}\")\n",
    "    return fig1, fig2, sal_maps_set"
   ]
  },
  {
   "cell_type": "markdown",
   "id": "9759f8e2",
   "metadata": {},
   "source": [
    "## Heatmap Generation <a name=\"Heatmap-Generation-mnist\"></a>\n",
    "\n",
    "We create an instance of `SlidingWindowStack`, an implementation of the `GenerateImageClassifierBlackboxSaliency` interface, to carry out our image perturbation and heatmap generation."
   ]
  },
  {
   "cell_type": "code",
   "execution_count": 6,
   "id": "0b46e4e6",
   "metadata": {},
   "outputs": [],
   "source": [
    "from xaitk_saliency.impls.gen_image_classifier_blackbox_sal.slidingwindow import SlidingWindowStack\n",
    "\n",
    "gen_slidingWindow = SlidingWindowStack(\n",
    "    window_size=(2, 2),\n",
    "    stride=(1, 1),\n",
    "    threads=4\n",
    ")"
   ]
  },
  {
   "cell_type": "markdown",
   "id": "071a6715",
   "metadata": {},
   "source": [
    "## Calling the Application <a name=\"Calling-the-Application-mlp-mnist\"></a>\n",
    "\n",
    "We call our application using a small MNIST image subset, our saliency generator, and our MLP classifier.\n",
    "\n",
    "The results show mostly negative saliency, suggesting that the MLP model has learned where the pixels are *absent* for each class more than where they are *present*."
   ]
  },
  {
   "cell_type": "code",
   "execution_count": 7,
   "id": "15d0d56b",
   "metadata": {},
   "outputs": [
    {
     "data": {
      "image/png": "[encoded data removed]",
      "text/plain": [
       "<Figure size 1000x500 with 11 Axes>"
      ]
     },
     "metadata": {},
     "output_type": "display_data"
    },
    {
     "data": {
      "image/png": "[encoded data removed]",
      "text/plain": [
       "<Figure size 1000x500 with 10 Axes>"
      ]
     },
     "metadata": {},
     "output_type": "display_data"
    }
   ],
   "source": [
    "fig1, fig2, sal_maps = app(\n",
    "    X[0:20],\n",
    "    image_classifier_mlp,\n",
    "    gen_slidingWindow\n",
    ")"
   ]
  },
  {
   "cell_type": "markdown",
   "id": "16708694",
   "metadata": {},
   "source": [
    "## Generating Saliency maps for a specific image <a name=\"Generate-Saliency-mlp-mnist\"></a>\n",
    "\n",
    "The `app` function from [The Application](#the-application) section is modified to generate class-wise saliency maps for a specific `image_id`."
   ]
  },
  {
   "cell_type": "code",
   "execution_count": 6,
   "id": "05dcc2ec",
   "metadata": {},
   "outputs": [],
   "source": [
    "from smqtk_classifier.interfaces.classify_image import ClassifyImage\n",
    "from xaitk_saliency.interfaces.gen_image_classifier_blackbox_sal import GenerateImageClassifierBlackboxSaliency\n",
    "import matplotlib.pyplot as plt\n",
    "\n",
    "class GenerateSaliency():\n",
    "\n",
    "    def gen_saliency_maps(self,\n",
    "        image_id: int,\n",
    "        img: np.ndarray,\n",
    "        image_classifier: ClassifyImage,\n",
    "        saliency_generator: GenerateImageClassifierBlackboxSaliency\n",
    "    ):  \n",
    "\n",
    "        # Generate saliency maps\n",
    "        ref_image = img.reshape(28, 28)\n",
    "        sal_maps = saliency_generator(ref_image, image_classifier)\n",
    "        \n",
    "        num_classes = sal_maps.shape[0]\n",
    "        \n",
    "        # Plot nth image in set with saliency maps\n",
    "        fig1 = plt.figure(figsize=(10,5))\n",
    "        plt.suptitle(f\"Saliency Maps for Image_ID: {str(image_id)}\", fontsize=16)\n",
    "        num_cols = np.ceil(num_classes/2).astype(int) + 1\n",
    "        plt.subplot(2, num_cols, 1)\n",
    "        plt.imshow(img.reshape(28,28), cmap='gray')\n",
    "        plt.xticks(())\n",
    "        plt.yticks(())\n",
    "        \n",
    "        for c in range(num_cols - 1):\n",
    "            plt.subplot(2, num_cols, c + 2)\n",
    "            plt.imshow(sal_maps[c], cmap=plt.cm.RdBu, vmin=-1, vmax=1)\n",
    "            plt.xticks(())\n",
    "            plt.yticks(())\n",
    "            plt.xlabel(f\"Class {c}\")\n",
    "        for c in range(num_classes - num_cols + 1, num_classes):\n",
    "            plt.subplot(2, num_cols, c + 3)\n",
    "            plt.imshow(sal_maps[c], cmap=plt.cm.RdBu, vmin=-1, vmax=1)\n",
    "            plt.xticks(())\n",
    "            plt.yticks(())\n",
    "            plt.xlabel(f\"Class {c}\")\n",
    "        plt.close(fig1)\n",
    "        \n",
    "        return fig1, sal_maps"
   ]
  },
  {
   "cell_type": "markdown",
   "id": "09b6f7f6",
   "metadata": {},
   "source": [
    "# MLFlow: Run-based Workflow <a name=\"MLFlow-mlp-mnist\"></a>\n",
    "\n",
    "We implement an end-to-end pipeline example using MLFlow's `Experiment` and `Run` capabilities. Each experiment represents each stage of the pipeline as follows:\n",
    "- &lt;Algorithm name&gt; - `Train`\n",
    "- &lt;Algorithm name&gt; - `Evaluation`\n",
    "- &lt;Algorithm name&gt; - `Saliency Map Generation`\n",
    "\n",
    "We are using the MLP example here and so we set the &lt;Algorithm name&gt; to `MLPClassifier`.\n",
    "\n",
    "Under each experiment, the information logging happens in the form of MLFlow runs. Finally, each run opens up a dashboard with 4 main information subsections:\n",
    "- `Parameters` - Specifically used in the `Train` stage to store model parameters.\n",
    "- `Metrics` - Different metrics are stored across different stages and are used, most importantly, in querying specific runs based on a given threshold value.\n",
    "- `Tags` - Key-value pair entries containing information that is useful for querying and also to link runs across different stages of the pipeline.\n",
    "- `Artifacts` - Used for storing saliency map images, numpy arrays, model metadata, etc."
   ]
  },
  {
   "cell_type": "markdown",
   "id": "120ca3c3",
   "metadata": {},
   "source": [
    "## Instructions before running the MLFlow pipeline <a name=\"MLFlowInstructions-mlp-mnist\"></a>\n",
    "Before running the cells below, make sure to open a terminal, (activate your python venv if you are using one) and run the following commands:\n",
    "\n",
    "> `cd \"/working/directory/of/current/notebook\"`\n",
    ">\n",
    "> `mlflow ui`\n",
    "\n",
    "or execute the cell below to run as a python subprocess"
   ]
  },
  {
   "cell_type": "code",
   "execution_count": 9,
   "id": "17e8e8bd",
   "metadata": {},
   "outputs": [],
   "source": [
    "import subprocess\n",
    "p = subprocess.Popen([\"mlflow\", \"ui\"])"
   ]
  },
  {
   "cell_type": "markdown",
   "id": "71095721",
   "metadata": {},
   "source": [
    "## MLFlowXAI - Initialize MLFlow experiment <a name=\"MLFlowXAI-mlp-mnist\"></a>\n",
    "\n",
    "The `MLFlowXAI` class initalizes the variables and methods required for creating a new MLFlow experiment or retrieving an existing experiment with the same name."
   ]
  },
  {
   "cell_type": "code",
   "execution_count": 7,
   "id": "2d0c80a5",
   "metadata": {},
   "outputs": [],
   "source": [
    "import mlflow\n",
    "from mlflow import MlflowClient\n",
    "from mlflow.entities import ViewType\n",
    "import random\n",
    "from urllib.parse import urlparse\n",
    "\n",
    "class MLFlowXAI():\n",
    "\n",
    "    def __init__(self):\n",
    "        self.mlruns_path = \"./mlruns\"\n",
    "        self.framework = \"sklearn\"\n",
    "        self.version = \"v1\"\n",
    "        self.dataset = \"MNIST\"\n",
    "        self.datasplit = \"test\"\n",
    "        self.client = None\n",
    "    \n",
    "    def init_experiment(self,experiment_name):\n",
    "\n",
    "        self.client = MlflowClient()\n",
    "        client = self.client\n",
    "\n",
    "        if not os.path.exists(self.mlruns_path):\n",
    "            os.makedirs(os.path.join(self.mlruns_path,\".trash\"))\n",
    "        \n",
    "        current_experiment = client.get_experiment_by_name(experiment_name)\n",
    "        \n",
    "        if current_experiment == None:\n",
    "            current_experiment_id = client.create_experiment(experiment_name,\n",
    "                                            tags={\"framework\": self.framework, \"version\": self.version})\n",
    "            client.set_experiment_tag(current_experiment_id, \"Experiment\", experiment_name)\n",
    "            experiment_id = current_experiment_id\n",
    "        else:\n",
    "            experiment_id = current_experiment.experiment_id\n",
    "        \n",
    "        experiment = client.get_experiment(experiment_id)\n",
    "        print(\"Name: {}\".format(experiment.name))\n",
    "        print(\"Experiment_id: {}\".format(experiment.experiment_id))\n",
    "        print(\"Artifact Location: {}\".format(experiment.artifact_location))\n",
    "        print(\"Tags: {}\".format(experiment.tags))\n",
    "        print(\"Lifecycle_stage: {}\".format(experiment.lifecycle_stage))\n",
    "        \n",
    "        return experiment\n",
    "\n",
    "MLFlowXAIobj = MLFlowXAI()"
   ]
  },
  {
   "cell_type": "markdown",
   "id": "c5e6143e",
   "metadata": {},
   "source": [
    "## MLFlowLogTraining - Create a run to log training info <a name=\"MLFlowLogTraining-mlp-mnist\"></a>\n",
    "\n",
    "The `MLFlowLogTraining` class implements the `log_training` method that creates a single MLFlow run that logs the model, parameters, metrics and tags from the `MLPClassifier` training."
   ]
  },
  {
   "cell_type": "code",
   "execution_count": 8,
   "id": "885bf54c",
   "metadata": {},
   "outputs": [
    {
     "name": "stdout",
     "output_type": "stream",
     "text": [
      "Name: MLPClassifier - Train\n",
      "Experiment_id: 1\n",
      "Artifact Location: file:///data/barry.ravichandran/XAITK/JATIC/xaitk-cdao/examples/mlflow/mlruns/1\n",
      "Tags: {'version': 'v1', 'framework': 'sklearn', 'Experiment': 'MLPClassifier - Train'}\n",
      "Lifecycle_stage: active\n"
     ]
    },
    {
     "name": "stderr",
     "output_type": "stream",
     "text": [
      "/data/barry.ravichandran/envs/mlflow37/lib/python3.7/site-packages/_distutils_hack/__init__.py:33: UserWarning: Setuptools is replacing distutils.\n",
      "  warnings.warn(\"Setuptools is replacing distutils.\")\n"
     ]
    }
   ],
   "source": [
    "class MLFlowLogTraining(MLFlowXAI):\n",
    "\n",
    "    def __init__(self):\n",
    "        \n",
    "        super(MLFlowLogTraining,self).__init__()\n",
    "    \n",
    "    def log_training(self, experiment_name):\n",
    "        \n",
    "        experiment = self.init_experiment(experiment_name=experiment_name)\n",
    "        \n",
    "        with mlflow.start_run(experiment_id=experiment.experiment_id, run_name=\"train_info\") as run:\n",
    "\n",
    "            # Assign train experiment and run IDs to class variables\n",
    "            train_exp_id = experiment.experiment_id\n",
    "            train_run_id = run.info.run_id\n",
    "\n",
    "            # Model parameters\n",
    "            mlflow.log_params(params)\n",
    "            \n",
    "            # Training loss for the MLP Classifier model (x)\n",
    "            for epoch in x.loss_curve_:\n",
    "                mlflow.log_metric('Train loss',epoch)\n",
    "\n",
    "            # Set experiment tags\n",
    "            mlflow.set_tags(experiment.tags)\n",
    "            mlflow.set_tags({\"Dataset\": self.dataset})\n",
    "            \n",
    "            # Final model checkpoint\n",
    "            mlflow.sklearn.log_model(x, artifact_path=\"sklearn-model\")\n",
    "        \n",
    "        return train_exp_id, train_run_id\n",
    "\n",
    "# Log training metrics for the trained sklearn MLP Classifier\n",
    "MLFlowLogtrainingObj = MLFlowLogTraining()\n",
    "train_exp_id, train_run_id = MLFlowLogtrainingObj.log_training(\"MLPClassifier - Train\")"
   ]
  },
  {
   "cell_type": "markdown",
   "id": "084594ac",
   "metadata": {},
   "source": [
    "## MLFlowLogEvaluation - Create \"k\" runs to log evaluation scores from \"k\" images <a name=\"MLFlowLogEvaluation-mlp-mnist\"></a>\n",
    "\n",
    "The `MLFlowLogEvaluation` class implements the `log_conf_score` method that starts \"k\" different MLFlow runs, where each run generates and logs the `Predicted_class_conf` and class-wise confidence scores as metrics and the GT and Predicted class labels as tags for the k<sup>th</sup> image. "
   ]
  },
  {
   "cell_type": "code",
   "execution_count": 9,
   "id": "8703c22c",
   "metadata": {},
   "outputs": [
    {
     "name": "stdout",
     "output_type": "stream",
     "text": [
      "Name: MLPClassifier - Evaluation\n",
      "Experiment_id: 2\n",
      "Artifact Location: file:///data/barry.ravichandran/XAITK/JATIC/xaitk-cdao/examples/mlflow/mlruns/2\n",
      "Tags: {'version': 'v1', 'framework': 'sklearn', 'Experiment': 'MLPClassifier - Evaluation'}\n",
      "Lifecycle_stage: active\n"
     ]
    }
   ],
   "source": [
    "class MLFlowLogEvaluation(MLFlowXAI):\n",
    "\n",
    "    def __init__(self):\n",
    "        \n",
    "        super(MLFlowLogEvaluation,self).__init__()\n",
    "\n",
    "    def log_conf_score(self, experiment_name, train_exp_id, train_run_id):\n",
    "        \n",
    "        experiment = self.init_experiment(experiment_name=experiment_name)\n",
    "\n",
    "        eval_exp_id = experiment.experiment_id\n",
    "        \n",
    "        img_count = 0\n",
    "\n",
    "        # x is the trained MLP Classifier model\n",
    "        pred_conf = x.predict_proba(X_test[0:20])\n",
    "\n",
    "        for i in range(pred_conf.shape[0]):\n",
    "            with mlflow.start_run(experiment_id=experiment.experiment_id,run_name=\"ImageID-\" + str(img_count) + \"_conf\") as run:\n",
    "                \n",
    "                mlflow.set_tags(experiment.tags)\n",
    "                \n",
    "                class_conf = []\n",
    "                for j in range(pred_conf.shape[1]):\n",
    "                    conf = round(pred_conf[img_count,j],2)\n",
    "                    class_conf.append(conf)\n",
    "                \n",
    "                max_conf = max(class_conf)\n",
    "                max_conf_class = class_conf.index(max_conf)\n",
    "                \n",
    "                mlflow.log_metric('Predicted_class_conf', max_conf)\n",
    "\n",
    "                for classes in range(len(class_conf)):\n",
    "                    mlflow.log_metric(\"Class_\" + str(classes) + \"_conf\", class_conf[classes])\n",
    "            \n",
    "                mlflow.set_tags({\"Image_id\": str(img_count),\n",
    "                                \"Predicted_class\": max_conf_class,\n",
    "                                \"GT_class\": y_test[img_count],\n",
    "                                \"Dataset\": self.dataset,\n",
    "                                \"Datasplit\": self.datasplit,\n",
    "                                \"Train_exp_id\": train_exp_id, \n",
    "                                \"Train_run_id\": train_run_id})\n",
    "            \n",
    "            img_count += 1\n",
    "        \n",
    "        return eval_exp_id\n",
    "\n",
    "# Log image confidence scores (currently using random values for conf scores)\n",
    "MLFlowLogEvaluationObj = MLFlowLogEvaluation()\n",
    "eval_exp_id = MLFlowLogEvaluationObj.log_conf_score(\"MLPClassifier - Evaluation\", train_exp_id, train_run_id)"
   ]
  },
  {
   "cell_type": "markdown",
   "id": "1ff194e2",
   "metadata": {},
   "source": [
    "## MLFlowQueryAndLogSaliency - Query a specific run from the Evaluation Stage and generate saliency maps <a name=\"MLFlowQueryAndLogSaliency-mlp-mnist\"></a>\n",
    "\n",
    "The `MLFlowQueryAndLogSaliency` class implements the `query_eval_run`, `log_saliency_maps` and `get_saliency_run_id` methods.\n",
    "\n",
    "- `query_eval_run` - Query runs from the `Evaluation` stage as a pandas dataframe based on an input filter string and order clause.\n",
    "\n",
    "- `log_saliency_maps` - Single MLFlow run to generate (using `gen_saliency_maps` from `GenerateSaliency` class) saliency maps for a given image. This method can also be used to edit existing runs to add/modify information.\n",
    "\n",
    "- `get_saliency_run_id` - Get the MLFlow run ID for the existing `log_saliency_maps` run."
   ]
  },
  {
   "cell_type": "code",
   "execution_count": 10,
   "id": "a02f36da",
   "metadata": {},
   "outputs": [
    {
     "name": "stdout",
     "output_type": "stream",
     "text": [
      "Name: MLPClassifier - Saliency Map Generation\n",
      "Experiment_id: 3\n",
      "Artifact Location: file:///data/barry.ravichandran/XAITK/JATIC/xaitk-cdao/examples/mlflow/mlruns/3\n",
      "Tags: {'version': 'v1', 'framework': 'sklearn', 'Experiment': 'MLPClassifier - Saliency Map Generation'}\n",
      "Lifecycle_stage: active\n"
     ]
    }
   ],
   "source": [
    "class MLFlowQueryAndLogSaliency(MLFlowXAI):\n",
    "\n",
    "    def __init__(self):\n",
    "        \n",
    "        super(MLFlowQueryAndLogSaliency,self).__init__()\n",
    "        self.saliency_run_id = None\n",
    "\n",
    "    def query_eval_run(self,filter_string,order_by,eval_exp_id):\n",
    "        \n",
    "        run = mlflow.search_runs(\n",
    "            experiment_ids=eval_exp_id,\n",
    "            filter_string=filter_string,\n",
    "            run_view_type=ViewType.ACTIVE_ONLY,\n",
    "            order_by=order_by\n",
    "        )\n",
    "        return run\n",
    "    \n",
    "    def log_saliency_maps(self, experiment_name, conf_score, image_id, eval_exp_id, eval_run_id, sal_run_id):\n",
    "\n",
    "        experiment = self.init_experiment(experiment_name=experiment_name)\n",
    "\n",
    "        with mlflow.start_run(experiment_id=experiment.experiment_id,run_name=f\"ImageID-{image_id}_saliency_maps\",run_id=sal_run_id if sal_run_id != None else None) as run:\n",
    "            \n",
    "            # Adding new tag to modified run\n",
    "            if sal_run_id != None:\n",
    "                modified_run = {\"Modified_run\": \"True\"}\n",
    "                mlflow.set_tags(modified_run)\n",
    "                mlflow.set_tag(\"mlflow.runName\", f\"ImageID-{image_id}_saliency_maps\")\n",
    "                \n",
    "            self.saliency_run_id = run.info.run_id\n",
    "        \n",
    "            mlflow.set_tags(experiment.tags)\n",
    "            mlflow.set_tags({\"Dataset\": self.dataset,\n",
    "                            \"Datasplit\": self.datasplit,\n",
    "                            \"Evaluation_exp_id\": eval_exp_id,\n",
    "                            \"Evaluation_run_id\": eval_run_id})\n",
    "            \n",
    "            p = urlparse(experiment.artifact_location)\n",
    "            \n",
    "            smap_path = './saliency_map_np_arrays'\n",
    "            if not os.path.exists(smap_path):\n",
    "                os.makedirs(smap_path)\n",
    "            \n",
    "            img_saliency, sal_maps = GenerateSaliency().gen_saliency_maps(image_id, X_test[image_id], image_classifier_mlp, gen_slidingWindow)\n",
    "            \n",
    "            np.save(os.path.join(smap_path,'image_saliency_maps.npy'), sal_maps)\n",
    "            mlflow.log_artifact(smap_path)\n",
    "\n",
    "            # Saliency maps saved under artifacts\n",
    "            mlflow.log_figure(img_saliency,'Image_saliency_maps.png')\n",
    "\n",
    "            mlflow.log_metric(\"Predicted_class_conf\",conf_score)\n",
    "\n",
    "            # Adding new metric and figure to modified run\n",
    "            if sal_run_id != None:\n",
    "                mlflow.log_metric(\"Predicted_class_conf_new\",conf_score)\n",
    "                mlflow.log_figure(img_saliency,'Image_saliency_maps_new.png')\n",
    "    \n",
    "    def get_saliency_run_id(self):\n",
    "        return self.saliency_run_id\n",
    "\n",
    "\n",
    "# Filter and query based on top_class_confidence_score metric and Top_conf_class tag\n",
    "\n",
    "conf_threshold = 0.9\n",
    "top_class = 4\n",
    "filter_string = f\"metrics.Predicted_class_conf >= \" + str(conf_threshold) +\" and tags.Predicted_class = '\" + str(top_class) + \"'\"\n",
    "\n",
    "order = \"DESC\" # or \"ASC\"\n",
    "order_by = [\"metrics.Predicted_class_conf\" + order]\n",
    "\n",
    "MLFlowQueryAndLogSaliencyObj = MLFlowQueryAndLogSaliency()\n",
    "queried_runs = MLFlowQueryAndLogSaliencyObj.query_eval_run(filter_string = filter_string, \n",
    "                                                    order_by = order_by, \n",
    "                                                    eval_exp_id = eval_exp_id)\n",
    "\n",
    "# Generate and log saliency maps for the top queried image id from the Evaluation stage.\n",
    "\n",
    "top_confScore = queried_runs[\"metrics.Predicted_class_conf\"][0]\n",
    "top_confScore_imgID = int(queried_runs[\"tags.Image_id\"][0])\n",
    "top_confScore_runID = str(queried_runs[\"run_id\"][0])\n",
    "\n",
    "MLFlowQueryAndLogSaliencyObj.log_saliency_maps(\"MLPClassifier - Saliency Map Generation\",\n",
    "                                            top_confScore,\n",
    "                                            top_confScore_imgID,\n",
    "                                            eval_exp_id,\n",
    "                                            top_confScore_runID,\n",
    "                                            None)"
   ]
  },
  {
   "cell_type": "markdown",
   "id": "2553c701",
   "metadata": {},
   "source": [
    "## Edit existing Saliency Generation run <a name=\"MLFlowEditSaliency-mlp-mnist\"></a>\n",
    "\n",
    "We use the `get_saliency_run_id` method to return the MLFlow Run ID of an existing saliency generation run and re-generate saliency maps based on the updated query results.\n"
   ]
  },
  {
   "cell_type": "code",
   "execution_count": 11,
   "id": "a6ad7c51",
   "metadata": {},
   "outputs": [
    {
     "name": "stdout",
     "output_type": "stream",
     "text": [
      "Name: MLPClassifier - Saliency Map Generation\n",
      "Experiment_id: 3\n",
      "Artifact Location: file:///data/barry.ravichandran/XAITK/JATIC/xaitk-cdao/examples/mlflow/mlruns/3\n",
      "Tags: {'version': 'v1', 'framework': 'sklearn', 'Experiment': 'MLPClassifier - Saliency Map Generation'}\n",
      "Lifecycle_stage: active\n"
     ]
    }
   ],
   "source": [
    "existing_sal_run_id = MLFlowQueryAndLogSaliencyObj.get_saliency_run_id()\n",
    "\n",
    "conf_threshold = 0.9\n",
    "top_class = 9\n",
    "filter_string = f\"metrics.Predicted_class_conf >= \" + str(conf_threshold) +\" and tags.Predicted_class = '\" + str(top_class) + \"'\"\n",
    "\n",
    "order = \"DESC\" # or \"ASC\"\n",
    "order_by = [\"metrics.Predicted_class_conf\" + order]\n",
    "\n",
    "queried_runs_new = MLFlowQueryAndLogSaliencyObj.query_eval_run(filter_string = filter_string, \n",
    "                                                    order_by = order_by, \n",
    "                                                    eval_exp_id = eval_exp_id)\n",
    "\n",
    "top_confScore_new = queried_runs_new[\"metrics.Predicted_class_conf\"][0]\n",
    "top_confScore_imgID_new = int(queried_runs_new[\"tags.Image_id\"][0])\n",
    "top_confScore_runID_new = str(queried_runs_new[\"run_id\"][0])\n",
    "\n",
    "MLFlowQueryAndLogSaliencyObj.log_saliency_maps(\"MLPClassifier - Saliency Map Generation\",\n",
    "                                            top_confScore_new,\n",
    "                                            top_confScore_imgID_new,\n",
    "                                            eval_exp_id,\n",
    "                                            top_confScore_runID_new,\n",
    "                                            existing_sal_run_id)"
   ]
  },
  {
   "attachments": {},
   "cell_type": "markdown",
   "id": "99a5568c",
   "metadata": {},
   "source": [
    "## Permanently delete existing MLFlow experiment <a name=\"MLFlowDeleteExperiment-mlp-mnist\"></a>\n",
    "\n",
    "While interacting with the MLFlow UI, the process of deleting an existing experiment does not permanently delete the contents of the experiment from the backend store. So, after deleting an experiment using the UI, it is important to run the following command from a terminal for permanent deletion:\n",
    "\n",
    "> `mlflow gc`"
   ]
  }
 ],
 "metadata": {
  "kernelspec": {
   "display_name": "Python 3 (ipykernel)",
   "language": "python",
   "name": "python3"
  },
  "language_info": {
   "codemirror_mode": {
    "name": "ipython",
    "version": 3
   },
   "file_extension": ".py",
   "mimetype": "text/x-python",
   "name": "python",
   "nbconvert_exporter": "python",
   "pygments_lexer": "ipython3",
   "version": "3.7.12"
  },
  "vscode": {
   "interpreter": {
    "hash": "36cf16204b8548560b1c020c4e8fb5b57f0e4c58016f52f2d4be01e192833930"
   }
  }
 },
 "nbformat": 4,
 "nbformat_minor": 5
}
