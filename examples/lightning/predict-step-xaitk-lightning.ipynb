{
 "cells": [
  {
   "cell_type": "markdown",
   "id": "0dca4823-056c-46dd-aa42-155e0efd4001",
   "metadata": {},
   "source": [
    "# Exploring `pytorch-lightning` With `xaitk-saliency` Integration\n",
    "\n",
    "This example extends the \"PyTorch Lightning DataModules\" notebook, found [here](https://github.com/Lightning-AI/tutorials/blob/publication/.notebooks/lightning_examples/datamodules.ipynb), for multi-GPU based training. Additionally, this notebook will explore integrating `xaitk-saliency` and `pytorch-lightning` to generate saliency maps for model predictions."
   ]
  },
  {
   "cell_type": "markdown",
   "id": "854c8ff9-a8e1-47cd-a30d-cecd6cd7be39",
   "metadata": {},
   "source": [
    "## Table of Contents\n",
    "\n",
    "* [Environment Setup](#environment-setup)\n",
    "* [Imports](#imports)\n",
    "* [Introduction](#introduction)\n",
    "  * [Defining the `MNISTDataModule`](#defining-mnist-data-module)\n",
    "  * [Defining the Dataset Agnostic `LitModel`](#defining-dataset-agnostic-lit-model)\n",
    "    * [Accelerator Code Preparation](#accelerator-code-preparation)\n",
    "  * [Training `LitModel` Using the `MNISTDataModule`](#training-lit-model-for-mnist)\n",
    "    * [PyTorch Lightning's Trainer](#pytorch-lightnings-trainer)\n",
    "    * [Accelerators and Distributed Modes](#accelerators-and-distributed-modes)\n",
    "      * [Selecting Accelerator Devices](#selecting-accelerator-devices)\n",
    "      * [Distributed Modes](#distributed-modes)\n",
    "  * [Defining the `CIFAR10DataModule`](#defining-cifar10-data-module)\n",
    "  * [Training `LitModel` Using the `CIFAR10DataModule`](#training-lit-model-for-cifar10)\n",
    "* [`xaitk-saliency` Integration](#xaitk-integration)\n",
    "    * [Defining `LitSaliencyModel`](#defining-lit-saliency-model)\n",
    "    * [Perturber and Saliency Generator](#perturber-and-saliency-generator)\n",
    "    * [Saliency Generator](#saliency-generator)\n",
    "    * [Generate Saliency Maps](#generate-saliency-maps)\n",
    "  "
   ]
  },
  {
   "cell_type": "markdown",
   "id": "6a4cb88a-db8a-4676-8e74-cb4b9bf0237d",
   "metadata": {},
   "source": [
    "## Environment Setup <a name=\"environment-setup\"></a>"
   ]
  },
  {
   "cell_type": "code",
   "execution_count": 1,
   "id": "6150f765-a61b-430d-b27c-0dbb9a04c352",
   "metadata": {},
   "outputs": [
    {
     "name": "stdout",
     "output_type": "stream",
     "text": [
      "Installing torchmetrics...\n",
      "Installing ipython...\n",
      "Installing setuptools...\n",
      "Installing torch...\n",
      "Installing pytorch-lightning...\n",
      "Installing torchvision...\n",
      "Installing xaitk-saliency...\n",
      "Done!\n"
     ]
    }
   ],
   "source": [
    "import sys\n",
    "!{sys.executable} -m pip install -qU pip\n",
    "print(\"Installing torchmetrics...\")\n",
    "!{sys.executable} -m pip install -q 'torchmetrics>=0.7'\n",
    "print(\"Installing ipython...\")\n",
    "!{sys.executable} -m pip install -q ipython[notebook]\n",
    "print(\"Installing setuptools...\")\n",
    "!{sys.executable} -m pip install -q 'setuptools==59.5.0'\n",
    "print(\"Installing torch...\")\n",
    "!{sys.executable} -m pip install -q 'torch>=1.8'\n",
    "print(\"Installing pytorch-lightning...\")\n",
    "!{sys.executable} -m pip install -q 'pytorch-lightning>=1.4'\n",
    "print(\"Installing torchvision...\")\n",
    "!{sys.executable} -m pip install -q torchvision\n",
    "print(\"Installing xaitk-saliency...\")\n",
    "!{sys.executable} -m pip install -q xaitk-saliency\n",
    "print(\"Done!\")"
   ]
  },
  {
   "cell_type": "markdown",
   "id": "e4cc9a40-6d3b-49d1-9d3a-2c6e4c8c8186",
   "metadata": {},
   "source": [
    "## Imports <a name=\"imports\"></a>"
   ]
  },
  {
   "cell_type": "code",
   "execution_count": 2,
   "id": "09d0b5b3-f7fd-4b14-bb37-e26abcfd5d7b",
   "metadata": {},
   "outputs": [],
   "source": [
    "import os\n",
    "\n",
    "import torch\n",
    "import torch.nn.functional as F\n",
    "from pytorch_lightning import Callback, LightningDataModule, LightningModule, Trainer\n",
    "from pytorch_lightning.callbacks.progress import TQDMProgressBar\n",
    "from torch import nn\n",
    "from torch.utils.data import Dataset, IterableDataset, DataLoader, random_split\n",
    "from torchmetrics.functional import accuracy\n",
    "from torchvision import transforms\n",
    "\n",
    "# Note you must have torchvision installed for this example\n",
    "from torchvision.datasets import CIFAR10, MNIST\n",
    "\n",
    "# xaitk-saliency integration imports\n",
    "from smqtk_classifier import ClassifyImage\n",
    "from typing import Iterable, Dict, Hashable, Tuple, Sequence, Any\n",
    "from xaitk_saliency.impls.gen_image_classifier_blackbox_sal.slidingwindow import SlidingWindowStack\n",
    "from xaitk_saliency import GenerateImageClassifierBlackboxSaliency\n",
    "from xaitk_saliency.interfaces.perturb_image import PerturbImage\n",
    "import numpy as np\n",
    "import matplotlib.pyplot as plt\n",
    "from xaitk_saliency.utils.masking import occlude_image_streaming, occlude_image_batch\n",
    "from xaitk_saliency.impls.gen_classifier_conf_sal.occlusion_scoring import OcclusionScoring\n",
    "from xaitk_saliency import GenerateClassifierConfidenceSaliency\n",
    "\n",
    "from xaitk_saliency.impls.perturb_image.sliding_window import SlidingWindow\n",
    "from pytorch_lightning.loops.epoch import PredictionEpochLoop\n",
    "from lightning_lite.utilities import move_data_to_device"
   ]
  },
  {
   "cell_type": "code",
   "execution_count": 3,
   "id": "0c29510a-8e9b-4eb0-9dab-958b13e050bb",
   "metadata": {},
   "outputs": [
    {
     "name": "stderr",
     "output_type": "stream",
     "text": [
      "Global seed set to 0\n"
     ]
    },
    {
     "data": {
      "text/plain": [
       "0"
      ]
     },
     "execution_count": 3,
     "metadata": {},
     "output_type": "execute_result"
    }
   ],
   "source": [
    "from pytorch_lightning import seed_everything\n",
    "\n",
    "# For reproducability\n",
    "seed_everything(0, workers = True)"
   ]
  },
  {
   "cell_type": "markdown",
   "id": "1cda097e-f735-45dd-9158-d6cab0210f03",
   "metadata": {
    "tags": []
   },
   "source": [
    "## Introduction <a name=\"introduction\"></a>\n",
    "\n",
    "A `LightningModule` _is_ a PyTorch `nn.Module`, with additional features. A `LightningDataModule` is a way of decoupling data-related hooks from the `LightningModule` to develop dataset agnostic models. In this notebook, we'll define two `DataModule`s to showcase this dataset agnostic capability.\n",
    "\n",
    "### Defining the `MNISTDataModule` <a name=\"defining-mnist-data-module\"></a>\n",
    "\n",
    "First, we'll define an MNIST `LightningDataModule`. There are various components to a `LightningDataModule`:\n",
    "\n",
    "* `__init__`\n",
    "  * Takes in a `data_dir` arg that points to where you have downloaded/wish to download the MNIST dataset.\n",
    "  * Defines a transform that will be applied across train, val, and test dataset splits.\n",
    "  * Defines default `self.dims`.\n",
    "* [`prepare_data()`](https://pytorch-lightning.readthedocs.io/en/stable/common/lightning_module.html#prepare-data)\n",
    "  * This is where we can download the dataset. We point to our desired dataset and ask torchvision's MNIST dataset class to download if the dataset isn't found there.\n",
    "  * __Note we do not make any state assignments in this function__ (i.e. `self.something = ...`)\n",
    "* [`setup(stage)`](https://pytorch-lightning.readthedocs.io/en/stable/common/lightning_module.html#setup)\n",
    "  * Loads in data from file and prepares PyTorch tensor datasets for each split (train, val, test).\n",
    "  * Setup expects a 'stage' arg which is used to separate logic for 'fit' and 'test'.\n",
    "  * If you don't mind loading all your datasets at once, you can set up a condition to allow for both 'fit' related setup and 'test' related setup to run whenever `None` is passed to `stage`.\n",
    "  * __Note this runs across all GPUs and it _is_ safe to make state assignments here__\n",
    "* [`x_dataloader()`](https://pytorch-lightning.readthedocs.io/en/stable/api/pytorch_lightning.core.hooks.DataHooks.html#pytorch_lightning.core.hooks.DataHooks.train_dataloader)\n",
    "  * `train_dataloader()`, `val_dataloader()`, and `test_dataloader()` all return PyTorch `DataLoader` instances that are created by wrapping their respective datasets that we prepared in `setup()`"
   ]
  },
  {
   "cell_type": "markdown",
   "id": "ac3b1ffc-3204-4fc7-b220-2b118fd68ce3",
   "metadata": {},
   "source": [
    "Note: If the `ddp_notebook` or `ddp_fork` distributed mode is used, GPU operations such as moving tensors to the GPU or calling `torch.cuda` functions before invoking `Trainer.fit` are not allowed so we will avoid doing so now (more on distributed modes later)."
   ]
  },
  {
   "cell_type": "code",
   "execution_count": 4,
   "id": "2fb25cc0-2d9a-4d32-be6d-0df2c7217904",
   "metadata": {},
   "outputs": [],
   "source": [
    "PATH_DATASETS = os.environ.get(\"PATH_DATASETS\", \".\")\n",
    "#BATCH_SIZE = 256 if torch.cuda.is_available() else 64\n",
    "BATCH_SIZE = 256"
   ]
  },
  {
   "cell_type": "code",
   "execution_count": 5,
   "id": "4c225388-ef15-44ba-ae2d-82f44226103b",
   "metadata": {},
   "outputs": [],
   "source": [
    "class MNISTDataModule(LightningDataModule):\n",
    "    def __init__(self, data_dir: str = PATH_DATASETS):\n",
    "        super().__init__()\n",
    "        self.data_dir = data_dir\n",
    "        self.transform = transforms.Compose(\n",
    "            [\n",
    "                transforms.ToTensor(),\n",
    "                transforms.Normalize((0.1307,), (0.3081,)),\n",
    "            ]\n",
    "        )\n",
    "\n",
    "        self.dims = (1, 28, 28)\n",
    "        self.num_classes = 10\n",
    "\n",
    "    def prepare_data(self):\n",
    "        # download\n",
    "        MNIST(self.data_dir, train=True, download=True)\n",
    "        MNIST(self.data_dir, train=False, download=True)\n",
    "\n",
    "    def setup(self, stage=None):\n",
    "\n",
    "        # Assign train/val datasets for use in dataloaders\n",
    "        if stage == \"fit\" or stage is None:\n",
    "            mnist_full = MNIST(self.data_dir, train=True, transform=self.transform)\n",
    "            self.mnist_train, self.mnist_val = random_split(mnist_full, [55000, 5000])\n",
    "\n",
    "        # Assign test dataset for use in dataloader(s)\n",
    "        if stage == \"test\" or stage is None:\n",
    "            self.mnist_test = MNIST(self.data_dir, train=False, transform=self.transform)\n",
    "\n",
    "    def train_dataloader(self):\n",
    "        return DataLoader(self.mnist_train, batch_size=BATCH_SIZE)\n",
    "\n",
    "    def val_dataloader(self):\n",
    "        return DataLoader(self.mnist_val, batch_size=BATCH_SIZE)\n",
    "\n",
    "    def test_dataloader(self):\n",
    "        return DataLoader(self.mnist_test, batch_size=BATCH_SIZE)\n",
    "    \n",
    "    def get_transform(self):\n",
    "        return self.transform"
   ]
  },
  {
   "cell_type": "markdown",
   "id": "0c0e319b-a194-4105-8140-c493a3345c80",
   "metadata": {},
   "source": [
    "### Defining the Dataset Agnostic `LitModel` <a name=\"defining-dataset-agnostic-lit-model\"></a>\n",
    "\n",
    "Below we define the same `LitMNIST` model as was defined in [PyTorch Lightning's MNIST Hello World Notebook](https://github.com/Lightning-AI/tutorials/blob/publication/.notebooks/lightning_examples/mnist-hello-world.ipynb). However, this time our model has the freedom to use any input data we'd like. We'll also make some slight modifications to the model, noted in the following section, to ensure our model can scale without changes.\n",
    "\n",
    "#### [Accelerator Code Preparation <a name=\"accelerator-code-preparation\"></a>](https://pytorch-lightning.readthedocs.io/en/latest/accelerators/accelerator_prepare.html)\n",
    "\n",
    "There are some code preparation details to keep in mind to train on any accelerator without changing code, summarized here:\n",
    "\n",
    "* Remove any `.cuda()` or `.to()` calls\n",
    "* Init tensors using `type_as` and `register_buffer`\n",
    "* Remove samplers\n",
    "* Syncronize validation and test logging (add `sync_dist=True` to all `self.log` calls in the validation and test step)\n",
    "* Make models pickleable\n",
    "\n",
    "We'll make those sure we're following those guidelines here."
   ]
  },
  {
   "cell_type": "code",
   "execution_count": 6,
   "id": "d5268a40-0e3f-4239-b009-773a4d11994a",
   "metadata": {},
   "outputs": [],
   "source": [
    "class LitModel(LightningModule):\n",
    "    def __init__(self, channels, width, height, num_classes, hidden_size=64, learning_rate=2e-4):\n",
    "\n",
    "        super().__init__()\n",
    "\n",
    "        # We take in input dimensions as parameters and use those to dynamically build model.\n",
    "        self.channels = channels\n",
    "        self.width = width\n",
    "        self.height = height\n",
    "        self.num_classes = num_classes\n",
    "        self.hidden_size = hidden_size\n",
    "        self.learning_rate = learning_rate\n",
    "\n",
    "        self.model = nn.Sequential(\n",
    "            nn.Flatten(),\n",
    "            nn.Linear(channels * width * height, hidden_size),\n",
    "            nn.ReLU(),\n",
    "            nn.Dropout(0.1),\n",
    "            nn.Linear(hidden_size, hidden_size),\n",
    "            nn.ReLU(),\n",
    "            nn.Dropout(0.1),\n",
    "            nn.Linear(hidden_size, num_classes),\n",
    "        )\n",
    "\n",
    "    def forward(self, x):\n",
    "        x = self.model(x)\n",
    "        return F.log_softmax(x, dim=1)\n",
    "\n",
    "    def training_step(self, batch, batch_idx):\n",
    "        x, y = batch\n",
    "        logits = self(x)\n",
    "        loss = F.nll_loss(logits, y)\n",
    "        return loss\n",
    "\n",
    "    def validation_step(self, batch, batch_idx):\n",
    "        x, y = batch\n",
    "        logits = self(x)\n",
    "        loss = F.nll_loss(logits, y)\n",
    "        preds = torch.argmax(logits, dim=1)\n",
    "        acc = accuracy(preds, y)\n",
    "        self.log(\"val_loss\", loss, prog_bar=True, sync_dist=True)\n",
    "        self.log(\"val_acc\", acc, prog_bar=True, sync_dist=True)\n",
    "        \n",
    "    def predict_step(self, batch, batch_idx, dataloader_idx=0):\n",
    "        if isinstance(batch, list):\n",
    "            x, _ = batch\n",
    "        else:\n",
    "            x = batch\n",
    "        # this calls forward\n",
    "        return self(x)\n",
    "\n",
    "    def configure_optimizers(self):\n",
    "        optimizer = torch.optim.Adam(self.parameters(), lr=self.learning_rate)\n",
    "        return optimizer"
   ]
  },
  {
   "cell_type": "markdown",
   "id": "611feb97-f047-491b-a0cb-c6563d92b3f9",
   "metadata": {},
   "source": [
    "### Training `LitModel` Using the `MNISTDataModule` <a name=\"training-lit-model-for-mnist\"></a>\n",
    "\n",
    "Now, we initialize and train the `LitModel` using the `MNISTDataModule`'s configuration settings and dataloaders.\n",
    "\n",
    "#### PyTorch Lightning's Trainer <a name=\"pytorch-lightnings-trainer\"></a>\n",
    "\n",
    "The [trainer](https://pytorch-lightning.readthedocs.io/en/stable/common/trainer.html) automates much of what is done manually in vanilla PyTorch once our model is organized within a `LightningModule`. If there's any key part you don't want automated, the trainer allows overrides.\n",
    "\n",
    "Under the hood, the trainer handles training details including:\n",
    "- Automatically enabling/disabling grads\n",
    "- Running the training, validation, and test dataloaders\n",
    "- Calling the callbacks at the appropriate times\n",
    "- Putting batches and computations on the correct devices\n",
    "\n",
    "[`.fit(..)`](https://pytorch-lightning.readthedocs.io/en/stable/api/pytorch_lightning.trainer.trainer.Trainer.html#pytorch_lightning.trainer.trainer.Trainer.fit) runs the whole optimization routine.\n",
    "\n",
    "Basic trainer usage:\n",
    "```\n",
    "model = MyLightningModule()\n",
    "\n",
    "trainer = Trainer()\n",
    "trainer.fit(model, my_data_module)\n",
    "```\n",
    "\n",
    "#### Accelerators and Distibuted Modes <a name=\"accelerators-and-distributed-modes\"></a>\n",
    "\n",
    "Since we followed the acclerator code preparation notes above, we can easily train our model on any number/type of accelerator device(s).\n",
    "\n",
    "##### [Selecting Accelerator Devices <a name=\"selecting-accelerator-devices\"></a>](https://pytorch-lightning.readthedocs.io/en/latest/accelerators/gpu_basic.html)\n",
    "\n",
    "You can select devices using ranges, a list of indices or a string containing a comma separated list of device ids:\n",
    "\n",
    "```\n",
    "# Default (int) specifies how many devices to use per node\n",
    "Trainer(accelerator=\"gpu\", devices=k)\n",
    "\n",
    "# Above is equivalant to\n",
    "Trainer(accelerator=\"gpu\", devices=list(range(k)))\n",
    "\n",
    "# Specify which devices to use (don't use when running on cluster)\n",
    "Trainer(accelerator=\"gpu\", devices=[0, 1])\n",
    "\n",
    "# String equivalent\n",
    "Trainer(accelerator=\"gpu\", devices='0, 1')\n",
    "\n",
    "# To use all available devices put -1 or '-1'\n",
    "# equivalent to list(range(torch.cuda.device_count()))\n",
    "Trainer(accelerator=\"gpu\", devices=-1)\n",
    "```\n",
    "\n",
    "Supported accelerators include: cpu, gpu, tpu, ipu, hpu, mps, auto and custom accelerator instances.\n",
    "\n",
    "##### [Distributed Modes <a name=\"distributed-modes\"></a>](https://pytorch-lightning.readthedocs.io/en/latest/accelerators/gpu_intermediate.html)\n",
    "\n",
    "PyTorch Lightning supports multiple ways of doing distributed training.\n",
    "\n",
    "* Data Parallel (`strategy='dp'`) (multiple-gpus, 1 machine)\n",
    "* Distributed Data Parallel (multiple-gpus across many machines)\n",
    "  * Regular (`strategy='ddp'`)\n",
    "  * Spawn (`strategy='ddp_spawn'`) (automatically used when no mode is set but multiple devices requested)\n",
    "  * Notebook/Fork (`strategy='ddp_notebook'`) (note Windows is not supported)\n",
    "* Horovod (`strategy='horovod'`) (multi-machine, multi-gpu, configured at runtime)\n",
    "* Bagua (`strategy='bagua'`) (multiple-gpus across many machines with advanced training algorithms)\n",
    "\n",
    "__Note only `dp` and `ddp_notebook` strategies can be used in interactive environments such as notebooks__\n",
    "\n",
    "`ddp` is the usual recommended go-to strategy for its speed and stability but it can only be used with scripts."
   ]
  },
  {
   "cell_type": "code",
   "execution_count": 7,
   "id": "189be161-1110-4473-963a-f2b907750d1c",
   "metadata": {},
   "outputs": [
    {
     "name": "stderr",
     "output_type": "stream",
     "text": [
      "GPU available: True (cuda), used: True\n",
      "TPU available: False, using: 0 TPU cores\n",
      "IPU available: False, using: 0 IPUs\n",
      "HPU available: False, using: 0 HPUs\n",
      "LOCAL_RANK: 0 - CUDA_VISIBLE_DEVICES: [0,1,2,3]\n",
      "\n",
      "  | Name  | Type       | Params\n",
      "-------------------------------------\n",
      "0 | model | Sequential | 55.1 K\n",
      "-------------------------------------\n",
      "55.1 K    Trainable params\n",
      "0         Non-trainable params\n",
      "55.1 K    Total params\n",
      "0.220     Total estimated model params size (MB)\n"
     ]
    },
    {
     "data": {
      "application/vnd.jupyter.widget-view+json": {
       "model_id": "",
       "version_major": 2,
       "version_minor": 0
      },
      "text/plain": [
       "Sanity Checking: 0it [00:00, ?it/s]"
      ]
     },
     "metadata": {},
     "output_type": "display_data"
    },
    {
     "name": "stderr",
     "output_type": "stream",
     "text": [
      "/home/khq.kitware.com/emily.veenhuis/miniconda3/envs/pytorch-lightning-test/lib/python3.9/site-packages/pytorch_lightning/trainer/connectors/data_connector.py:224: PossibleUserWarning: The dataloader, val_dataloader 0, does not have many workers which may be a bottleneck. Consider increasing the value of the `num_workers` argument` (try 20 which is the number of cpus on this machine) in the `DataLoader` init to improve performance.\n",
      "  rank_zero_warn(\n",
      "/home/khq.kitware.com/emily.veenhuis/miniconda3/envs/pytorch-lightning-test/lib/python3.9/site-packages/pytorch_lightning/trainer/connectors/data_connector.py:224: PossibleUserWarning: The dataloader, train_dataloader, does not have many workers which may be a bottleneck. Consider increasing the value of the `num_workers` argument` (try 20 which is the number of cpus on this machine) in the `DataLoader` init to improve performance.\n",
      "  rank_zero_warn(\n"
     ]
    },
    {
     "data": {
      "application/vnd.jupyter.widget-view+json": {
       "model_id": "1d902ca63b4d43a4ab4f7c7090c23a06",
       "version_major": 2,
       "version_minor": 0
      },
      "text/plain": [
       "Training: 0it [00:00, ?it/s]"
      ]
     },
     "metadata": {},
     "output_type": "display_data"
    },
    {
     "data": {
      "application/vnd.jupyter.widget-view+json": {
       "model_id": "",
       "version_major": 2,
       "version_minor": 0
      },
      "text/plain": [
       "Validation: 0it [00:00, ?it/s]"
      ]
     },
     "metadata": {},
     "output_type": "display_data"
    },
    {
     "data": {
      "application/vnd.jupyter.widget-view+json": {
       "model_id": "",
       "version_major": 2,
       "version_minor": 0
      },
      "text/plain": [
       "Validation: 0it [00:00, ?it/s]"
      ]
     },
     "metadata": {},
     "output_type": "display_data"
    },
    {
     "data": {
      "application/vnd.jupyter.widget-view+json": {
       "model_id": "",
       "version_major": 2,
       "version_minor": 0
      },
      "text/plain": [
       "Validation: 0it [00:00, ?it/s]"
      ]
     },
     "metadata": {},
     "output_type": "display_data"
    },
    {
     "name": "stderr",
     "output_type": "stream",
     "text": [
      "`Trainer.fit` stopped: `max_epochs=3` reached.\n"
     ]
    }
   ],
   "source": [
    "# Init DataModule\n",
    "mnist_dm = MNISTDataModule()\n",
    "# Init model from datamodule's attributes\n",
    "mnist_model = LitModel(*mnist_dm.dims, mnist_dm.num_classes)\n",
    "# Init trainer\n",
    "mnist_trainer = Trainer(\n",
    "    max_epochs=3,\n",
    "    callbacks=[TQDMProgressBar(refresh_rate=20)],\n",
    "    accelerator=\"auto\",\n",
    "    devices=-1,\n",
    "    strategy=\"dp\",\n",
    ")\n",
    "# Pass the datamodule as arg to trainer.fit to override model hooks :)\n",
    "mnist_trainer.fit(mnist_model, mnist_dm)"
   ]
  },
  {
   "cell_type": "markdown",
   "id": "eedc8924-57ca-4bf4-8a82-5e371473fde7",
   "metadata": {},
   "source": [
    "### Defining the `CIFAR10DataModule` <a name=\"defining-cifar10-data-module\"></a>\n",
    "\n",
    "Prove `LitModel` is dataset agnostic by defining a new `DataModule` for the CIFAR10 dataset."
   ]
  },
  {
   "cell_type": "code",
   "execution_count": 8,
   "id": "a8722128-5269-4ad0-9014-eb1164eceb39",
   "metadata": {},
   "outputs": [],
   "source": [
    "class CIFAR10DataModule(LightningDataModule):\n",
    "    def __init__(self, data_dir: str = \"./\"):\n",
    "        super().__init__()\n",
    "        self.data_dir = data_dir\n",
    "        self.transform = transforms.Compose(\n",
    "            [\n",
    "                transforms.ToTensor(),\n",
    "                transforms.Normalize((0.5, 0.5, 0.5), (0.5, 0.5, 0.5)),\n",
    "            ]\n",
    "        )\n",
    "\n",
    "        self.dims = (3, 32, 32)\n",
    "        self.num_classes = 10\n",
    "\n",
    "    def prepare_data(self):\n",
    "        # download\n",
    "        CIFAR10(self.data_dir, train=False, download=True)\n",
    "        CIFAR10(self.data_dir, train=True, download=True)\n",
    "\n",
    "    def setup(self, stage=None):\n",
    "\n",
    "        # Assign train/val datasets for use in dataloaders\n",
    "        if stage == \"fit\" or stage is None:\n",
    "            cifar_full = CIFAR10(self.data_dir, train=True, transform=self.transform)\n",
    "            self.cifar_train, self.cifar_val = random_split(cifar_full, [45000, 5000], generator=torch.Generator().manual_seed(0))\n",
    "\n",
    "        # Assign test dataset for use in dataloader(s)\n",
    "        if stage == \"test\" or stage == \"predict\" or stage is None:\n",
    "            cifar_full_test = CIFAR10(self.data_dir, train=False, transform=self.transform)\n",
    "            predict_size = 5\n",
    "            test_size = len(cifar_full_test) - predict_size\n",
    "            self.cifar_test, self.cifar_predict = random_split(cifar_full_test, [test_size, predict_size], generator=torch.Generator().manual_seed(0))\n",
    "\n",
    "    def train_dataloader(self):\n",
    "        return DataLoader(self.cifar_train, batch_size=BATCH_SIZE)\n",
    "\n",
    "    def val_dataloader(self):\n",
    "        return DataLoader(self.cifar_val, batch_size=BATCH_SIZE)\n",
    "\n",
    "    def test_dataloader(self):\n",
    "        return DataLoader(self.cifar_test, batch_size=BATCH_SIZE)\n",
    "    \n",
    "    def predict_dataloader(self):\n",
    "        return DataLoader(self.cifar_predict, batch_size=BATCH_SIZE)\n",
    "    \n",
    "    def get_transform(self):\n",
    "        return self.transform"
   ]
  },
  {
   "cell_type": "markdown",
   "id": "4f35034c-f668-401d-bdd9-5995386f2021",
   "metadata": {},
   "source": [
    "### Training `LitModel` using the `CIFAR10DataModule` <a name=\"training-lit-model-for-cifar10\"></a>\n",
    "\n",
    "This model isn't very good, so it will perform badly on the CIFAR10 dataset.\n",
    "\n",
    "The point here is that we can see our `LitModel` has no problem using a different datamodule as its input data."
   ]
  },
  {
   "cell_type": "code",
   "execution_count": 9,
   "id": "9d1d63df-059e-4b8d-9ab5-478659f15a4f",
   "metadata": {},
   "outputs": [
    {
     "name": "stderr",
     "output_type": "stream",
     "text": [
      "GPU available: True (cuda), used: True\n",
      "TPU available: False, using: 0 TPU cores\n",
      "IPU available: False, using: 0 IPUs\n",
      "HPU available: False, using: 0 HPUs\n"
     ]
    },
    {
     "name": "stdout",
     "output_type": "stream",
     "text": [
      "Files already downloaded and verified\n",
      "Files already downloaded and verified\n"
     ]
    },
    {
     "name": "stderr",
     "output_type": "stream",
     "text": [
      "LOCAL_RANK: 0 - CUDA_VISIBLE_DEVICES: [0,1,2,3]\n",
      "\n",
      "  | Name  | Type       | Params\n",
      "-------------------------------------\n",
      "0 | model | Sequential | 855 K \n",
      "-------------------------------------\n",
      "855 K     Trainable params\n",
      "0         Non-trainable params\n",
      "855 K     Total params\n",
      "3.420     Total estimated model params size (MB)\n"
     ]
    },
    {
     "data": {
      "application/vnd.jupyter.widget-view+json": {
       "model_id": "",
       "version_major": 2,
       "version_minor": 0
      },
      "text/plain": [
       "Sanity Checking: 0it [00:00, ?it/s]"
      ]
     },
     "metadata": {},
     "output_type": "display_data"
    },
    {
     "name": "stderr",
     "output_type": "stream",
     "text": [
      "/home/khq.kitware.com/emily.veenhuis/miniconda3/envs/pytorch-lightning-test/lib/python3.9/site-packages/pytorch_lightning/trainer/connectors/data_connector.py:224: PossibleUserWarning: The dataloader, val_dataloader 0, does not have many workers which may be a bottleneck. Consider increasing the value of the `num_workers` argument` (try 20 which is the number of cpus on this machine) in the `DataLoader` init to improve performance.\n",
      "  rank_zero_warn(\n",
      "/home/khq.kitware.com/emily.veenhuis/miniconda3/envs/pytorch-lightning-test/lib/python3.9/site-packages/pytorch_lightning/trainer/connectors/data_connector.py:224: PossibleUserWarning: The dataloader, train_dataloader, does not have many workers which may be a bottleneck. Consider increasing the value of the `num_workers` argument` (try 20 which is the number of cpus on this machine) in the `DataLoader` init to improve performance.\n",
      "  rank_zero_warn(\n"
     ]
    },
    {
     "data": {
      "application/vnd.jupyter.widget-view+json": {
       "model_id": "9d9b39faa58c4b5eaae7f0a846412f59",
       "version_major": 2,
       "version_minor": 0
      },
      "text/plain": [
       "Training: 0it [00:00, ?it/s]"
      ]
     },
     "metadata": {},
     "output_type": "display_data"
    },
    {
     "data": {
      "application/vnd.jupyter.widget-view+json": {
       "model_id": "",
       "version_major": 2,
       "version_minor": 0
      },
      "text/plain": [
       "Validation: 0it [00:00, ?it/s]"
      ]
     },
     "metadata": {},
     "output_type": "display_data"
    },
    {
     "data": {
      "application/vnd.jupyter.widget-view+json": {
       "model_id": "",
       "version_major": 2,
       "version_minor": 0
      },
      "text/plain": [
       "Validation: 0it [00:00, ?it/s]"
      ]
     },
     "metadata": {},
     "output_type": "display_data"
    },
    {
     "data": {
      "application/vnd.jupyter.widget-view+json": {
       "model_id": "",
       "version_major": 2,
       "version_minor": 0
      },
      "text/plain": [
       "Validation: 0it [00:00, ?it/s]"
      ]
     },
     "metadata": {},
     "output_type": "display_data"
    },
    {
     "data": {
      "application/vnd.jupyter.widget-view+json": {
       "model_id": "",
       "version_major": 2,
       "version_minor": 0
      },
      "text/plain": [
       "Validation: 0it [00:00, ?it/s]"
      ]
     },
     "metadata": {},
     "output_type": "display_data"
    },
    {
     "data": {
      "application/vnd.jupyter.widget-view+json": {
       "model_id": "",
       "version_major": 2,
       "version_minor": 0
      },
      "text/plain": [
       "Validation: 0it [00:00, ?it/s]"
      ]
     },
     "metadata": {},
     "output_type": "display_data"
    },
    {
     "name": "stderr",
     "output_type": "stream",
     "text": [
      "`Trainer.fit` stopped: `max_epochs=5` reached.\n"
     ]
    }
   ],
   "source": [
    "cifar10_dm = CIFAR10DataModule()\n",
    "cifar10_model = LitModel(*cifar10_dm.dims, cifar10_dm.num_classes, hidden_size=256)\n",
    "tqdm_progress_bar = TQDMProgressBar(refresh_rate=20)\n",
    "cifar10_trainer = Trainer(\n",
    "    max_epochs=5,\n",
    "    accelerator=\"auto\",\n",
    "    devices=-1,\n",
    "    strategy=\"dp\",\n",
    "    callbacks=[tqdm_progress_bar],\n",
    ")\n",
    "cifar10_trainer.fit(cifar10_model, cifar10_dm)"
   ]
  },
  {
   "cell_type": "markdown",
   "id": "38169815-3f22-43a0-9524-0ee1db1f1c45",
   "metadata": {},
   "source": [
    "## `xaitk-saliency` Integration <a name=\"xaitk-integration\"></a>\n",
    "\n",
    "### Defining `LitSaliencyModel` <a name=\"defining-lit-saliency-model\"></a>\n",
    "\n",
    "Here we will define `LitSaliencyModel` which overrides the `predict_step` function of `LitModel` to add saliency map generation for each image that we predict on. The \"driver\" of this added functionality is `gen_saliency_maps(ref_preds, imgs)`.\n",
    "\n",
    "To generate saliency maps, we'll need a pertubation implementation and a saliency generator.\n",
    "\n",
    "Within `gen_saliency_maps(..)`, there are 3 main steps:\n",
    "1. Generate perturbed data via the perturber\n",
    "2. Predict upon the perturbed data\n",
    "3. Using these prediction results, the saliency generator will generate heat maps\n"
   ]
  },
  {
   "cell_type": "code",
   "execution_count": 10,
   "id": "cca86d6e-4749-4daf-85ce-32543d1ad675",
   "metadata": {},
   "outputs": [],
   "source": [
    "class LitSaliencyModel(LitModel):\n",
    "    def __init__(\n",
    "        self, \n",
    "        channels, \n",
    "        width, \n",
    "        height, \n",
    "        num_classes,\n",
    "        perturber: PerturbImage,\n",
    "        saliency_generator: GenerateClassifierConfidenceSaliency,\n",
    "        labels: Sequence[Hashable]=None,\n",
    "        hidden_size=64, \n",
    "        learning_rate=2e-4,\n",
    "        process = 'batch',\n",
    "        threads: int=4,\n",
    "    ):\n",
    "        super().__init__(\n",
    "            channels, \n",
    "            width, \n",
    "            height, \n",
    "            num_classes,\n",
    "            hidden_size=64, \n",
    "            learning_rate=2e-4,\n",
    "        )\n",
    "\n",
    "        self.perturber = perturber\n",
    "        self.generator = saliency_generator\n",
    "        self.labels = labels\n",
    "        if self.labels is None:\n",
    "            self.labels = list(range(self.num_classes))\n",
    "            \n",
    "        self.process = process\n",
    "        self.threads = threads\n",
    "        # Optional fill color\n",
    "        self.fill: Optional[Union[int, Sequence[int]]] = None\n",
    "        \n",
    "    def predict_step(self, batch, batch_idx, dataloader_idx=0):\n",
    "        if isinstance(batch, list):\n",
    "            x, _ = batch\n",
    "        else:\n",
    "            x = batch\n",
    "            \n",
    "        # this calls forward\n",
    "        preds = self(x)\n",
    "        \n",
    "        self._gen_saliency_maps(preds, x)\n",
    "        \n",
    "        return preds\n",
    "    \n",
    "    def _gen_saliency_maps(\n",
    "        self,\n",
    "        ref_preds: Any,\n",
    "        imgs: Any\n",
    "    ) -> None:\n",
    "        sal_maps_set = []\n",
    "        ref_imgs = []\n",
    "        for ref_pred, ref_img in zip(ref_preds, imgs):\n",
    "            # Lightning data is channel first\n",
    "            ref_img = ref_img.cpu().permute(1,2,0).data.numpy()\n",
    "            ref_imgs.append(ref_img)\n",
    "\n",
    "            # Generate pertubation masks\n",
    "            pert_masks = self.perturber(ref_img)\n",
    "\n",
    "            # Confidence value setup\n",
    "            ref_conf_dict = list(self._classify_preds([ref_preds]))[0]\n",
    "            ref_conf_vec = np.asarray([ref_conf_dict[la] for la in self.labels])\n",
    "            pert_conf_mat = np.empty(\n",
    "                (pert_masks.shape[0], ref_conf_vec.shape[0]),\n",
    "                dtype=ref_conf_vec.dtype\n",
    "            )\n",
    "\n",
    "            # Genertate perturbed images\n",
    "            pert_imgs_it = self._gen_perturbed_imgs(ref_img, pert_masks)\n",
    "            pert_imgs_it = np.transpose(pert_imgs_it, (0, 3, 1, 2))\n",
    "\n",
    "            # Predict on perturbed images\n",
    "            pert_outputs = []\n",
    "            dataloader = DataLoader(\n",
    "                 self._MaskDataset(pert_imgs_it, imgs),\n",
    "                 shuffle=False\n",
    "             )\n",
    "            for data in dataloader:\n",
    "                pert_outputs.append(self(data))\n",
    "            pert_conf_it = self._classify_preds(pert_outputs)\n",
    "\n",
    "            # Format confidence values for generator\n",
    "            for i, pc in enumerate(pert_conf_it):\n",
    "                pert_conf_mat[i] = [pc[la] for la in self.labels]\n",
    "\n",
    "            # Generate saliency map\n",
    "            sal_maps_set.append(\n",
    "                self.generator(\n",
    "                    ref_conf_vec,\n",
    "                    pert_conf_mat,\n",
    "                    pert_masks,\n",
    "            ))\n",
    "            \n",
    "        # Plot each image in set with saliency maps\n",
    "        self._plot_saliency_maps(sal_maps_set, ref_imgs)\n",
    "    \n",
    "    class _MaskDataset(Dataset):\n",
    "        def __init__(self, imgs, ref_tensor = None):\n",
    "            self.imgs = imgs\n",
    "            self.to_tensor = transforms.ToTensor()\n",
    "            self.ref_tensor = ref_tensor\n",
    "            \n",
    "        def __len__(self):\n",
    "            return len(self.imgs)\n",
    "        \n",
    "        def __getitem__(self, index):\n",
    "            img = self.to_tensor(self.imgs[index])\n",
    "            if self.ref_tensor is not None:\n",
    "                img = img.type_as(self.ref_tensor)\n",
    "            return img\n",
    "        \n",
    "    def _gen_perturbed_imgs(self, ref_img, pert_masks):\n",
    "        if self.process == 'stream':\n",
    "            pert_imgs_it = occlude_image_streaming(\n",
    "                ref_img, \n",
    "                pert_masks,\n",
    "                fill = self.fill,\n",
    "                threads = self.threads\n",
    "            )\n",
    "        elif self.process == \"batch\":\n",
    "            pert_imgs_it = occlude_image_batch(\n",
    "                ref_img, \n",
    "                pert_masks,\n",
    "                fill = self.fill,\n",
    "                threads = self.threads\n",
    "            )\n",
    "        \n",
    "        return pert_imgs_it\n",
    "    \n",
    "    def _classify_preds(self, preds):\n",
    "        results = []\n",
    "        for pred in preds:\n",
    "            max_idx = torch.argmax(pred)\n",
    "            r = {}\n",
    "            for idx in range(len(self.labels)):\n",
    "                if idx == max_idx:\n",
    "                    r[self.labels[idx]] = 1.\n",
    "                else:\n",
    "                    r[self.labels[idx]] = 0.\n",
    "            results.append(r)\n",
    "            \n",
    "        return results\n",
    "    \n",
    "    def _plot_saliency_maps(self, sal_maps_set, ref_imgs):\n",
    "        for i in range(len(sal_maps_set)):\n",
    "            plt.figure(figsize=(10,5))\n",
    "            num_cols = np.ceil(self.num_classes/2).astype(int) + 1\n",
    "            plt.subplot(2, num_cols, 1)\n",
    "            plt.imshow(ref_imgs[i], cmap='gray')\n",
    "            plt.xticks(())\n",
    "            plt.yticks(())\n",
    "\n",
    "            for c in range(num_cols - 1):\n",
    "                plt.subplot(2, num_cols, c + 2)\n",
    "                plt.imshow(sal_maps_set[i][c], cmap=plt.cm.RdBu, vmin=-1, vmax=1)\n",
    "                plt.xticks(())\n",
    "                plt.yticks(())\n",
    "                plt.xlabel(f\"{self.labels[c]}\")\n",
    "            for c in range(self.num_classes - num_cols + 1, self.num_classes):\n",
    "                plt.subplot(2, num_cols, c + 3)\n",
    "                plt.imshow(sal_maps_set[i][c], cmap=plt.cm.RdBu, vmin=-1, vmax=1)\n",
    "                plt.xticks(())\n",
    "                plt.yticks(())\n",
    "                plt.xlabel(f\"{self.labels[c]}\")\n"
   ]
  },
  {
   "cell_type": "markdown",
   "id": "9b41275a-4cb1-4ffa-bece-6f0408fd660f",
   "metadata": {},
   "source": [
    "### Perturber and Saliency Generator <a name=\"perturber-and-saliency-generator\"></a>\n",
    "\n",
    "We create an instance of `SlidingWindow`, an implementation of the `PerturbImage` interface, to carry out our image pertubation and an instance of `OcclusionScoring`, an implementation of the `GenerateClassifierConfidenceSaliency` interface, for heatmap generation."
   ]
  },
  {
   "cell_type": "code",
   "execution_count": 11,
   "id": "54546de6-34a7-4037-9a1d-0ad5657b12b7",
   "metadata": {},
   "outputs": [],
   "source": [
    "sliding_window_perturber = SlidingWindow(\n",
    "    window_size=(2, 2),\n",
    "    stride=(1, 1),\n",
    ")\n",
    "sal_map_generator = OcclusionScoring()"
   ]
  },
  {
   "cell_type": "markdown",
   "id": "92cc5555-921c-4c8c-911c-81cca4609368",
   "metadata": {},
   "source": [
    "### Generate Saliency Maps <a name=\"generate-saliency-maps\"></a>\n",
    "\n",
    "With our new `LitSaliencyModel`, we just have to call predict on our trained model to generate saliency maps across all predicted images."
   ]
  },
  {
   "cell_type": "code",
   "execution_count": 12,
   "id": "8da8a228-7987-4d4e-9a4a-f81e1abb485c",
   "metadata": {},
   "outputs": [
    {
     "name": "stderr",
     "output_type": "stream",
     "text": [
      "GPU available: True (cuda), used: True\n",
      "TPU available: False, using: 0 TPU cores\n",
      "IPU available: False, using: 0 IPUs\n",
      "HPU available: False, using: 0 HPUs\n"
     ]
    },
    {
     "name": "stdout",
     "output_type": "stream",
     "text": [
      "Files already downloaded and verified\n",
      "Files already downloaded and verified\n"
     ]
    },
    {
     "name": "stderr",
     "output_type": "stream",
     "text": [
      "LOCAL_RANK: 0 - CUDA_VISIBLE_DEVICES: [0,1,2,3]\n",
      "\n",
      "  | Name  | Type       | Params\n",
      "-------------------------------------\n",
      "0 | model | Sequential | 201 K \n",
      "-------------------------------------\n",
      "201 K     Trainable params\n",
      "0         Non-trainable params\n",
      "201 K     Total params\n",
      "0.806     Total estimated model params size (MB)\n"
     ]
    },
    {
     "data": {
      "application/vnd.jupyter.widget-view+json": {
       "model_id": "",
       "version_major": 2,
       "version_minor": 0
      },
      "text/plain": [
       "Sanity Checking: 0it [00:00, ?it/s]"
      ]
     },
     "metadata": {},
     "output_type": "display_data"
    },
    {
     "name": "stderr",
     "output_type": "stream",
     "text": [
      "/home/khq.kitware.com/emily.veenhuis/miniconda3/envs/pytorch-lightning-test/lib/python3.9/site-packages/pytorch_lightning/trainer/connectors/data_connector.py:224: PossibleUserWarning: The dataloader, val_dataloader 0, does not have many workers which may be a bottleneck. Consider increasing the value of the `num_workers` argument` (try 20 which is the number of cpus on this machine) in the `DataLoader` init to improve performance.\n",
      "  rank_zero_warn(\n",
      "/home/khq.kitware.com/emily.veenhuis/miniconda3/envs/pytorch-lightning-test/lib/python3.9/site-packages/pytorch_lightning/trainer/connectors/data_connector.py:224: PossibleUserWarning: The dataloader, train_dataloader, does not have many workers which may be a bottleneck. Consider increasing the value of the `num_workers` argument` (try 20 which is the number of cpus on this machine) in the `DataLoader` init to improve performance.\n",
      "  rank_zero_warn(\n"
     ]
    },
    {
     "data": {
      "application/vnd.jupyter.widget-view+json": {
       "model_id": "51416ae9a28f47f89c1e08ddf4fd65ad",
       "version_major": 2,
       "version_minor": 0
      },
      "text/plain": [
       "Training: 0it [00:00, ?it/s]"
      ]
     },
     "metadata": {},
     "output_type": "display_data"
    },
    {
     "data": {
      "application/vnd.jupyter.widget-view+json": {
       "model_id": "",
       "version_major": 2,
       "version_minor": 0
      },
      "text/plain": [
       "Validation: 0it [00:00, ?it/s]"
      ]
     },
     "metadata": {},
     "output_type": "display_data"
    },
    {
     "data": {
      "application/vnd.jupyter.widget-view+json": {
       "model_id": "",
       "version_major": 2,
       "version_minor": 0
      },
      "text/plain": [
       "Validation: 0it [00:00, ?it/s]"
      ]
     },
     "metadata": {},
     "output_type": "display_data"
    },
    {
     "data": {
      "application/vnd.jupyter.widget-view+json": {
       "model_id": "",
       "version_major": 2,
       "version_minor": 0
      },
      "text/plain": [
       "Validation: 0it [00:00, ?it/s]"
      ]
     },
     "metadata": {},
     "output_type": "display_data"
    },
    {
     "data": {
      "application/vnd.jupyter.widget-view+json": {
       "model_id": "",
       "version_major": 2,
       "version_minor": 0
      },
      "text/plain": [
       "Validation: 0it [00:00, ?it/s]"
      ]
     },
     "metadata": {},
     "output_type": "display_data"
    },
    {
     "data": {
      "application/vnd.jupyter.widget-view+json": {
       "model_id": "",
       "version_major": 2,
       "version_minor": 0
      },
      "text/plain": [
       "Validation: 0it [00:00, ?it/s]"
      ]
     },
     "metadata": {},
     "output_type": "display_data"
    },
    {
     "name": "stderr",
     "output_type": "stream",
     "text": [
      "`Trainer.fit` stopped: `max_epochs=5` reached.\n"
     ]
    }
   ],
   "source": [
    "labels = ['Plane', 'Car', 'Bird', 'Cat',\n",
    "           'Deer', 'Dog', 'Frog', 'Horse', 'Ship', 'Truck']\n",
    "\n",
    "cifar10_dm = CIFAR10DataModule()\n",
    "cifar10_model = LitSaliencyModel(\n",
    "    *cifar10_dm.dims, \n",
    "    cifar10_dm.num_classes,\n",
    "    sliding_window_perturber,\n",
    "    sal_map_generator,\n",
    "    labels=labels,\n",
    "    hidden_size=256\n",
    ")\n",
    "tqdm_progress_bar = TQDMProgressBar(refresh_rate=20)\n",
    "cifar10_trainer = Trainer(\n",
    "    max_epochs=5,\n",
    "    accelerator=\"auto\",\n",
    "    devices=-1,\n",
    "    strategy=\"dp\",\n",
    "    callbacks=[tqdm_progress_bar],\n",
    ")\n",
    "cifar10_trainer.fit(model=cifar10_model, datamodule=cifar10_dm)"
   ]
  },
  {
   "cell_type": "markdown",
   "id": "76859c7f-e097-41c0-9cc3-36982dbfc657",
   "metadata": {},
   "source": [
    "We know our model doesn't perform well on this dataset and these results confirm that the model has difficulty discriminate between CIFAR10 classes. It's not clear which features the model is trying to focus on, if it is able to identify any at all, for many of the samples."
   ]
  },
  {
   "cell_type": "code",
   "execution_count": 13,
   "id": "7b885dce-05a3-4e7e-b8b3-dd487076b778",
   "metadata": {},
   "outputs": [
    {
     "name": "stdout",
     "output_type": "stream",
     "text": [
      "Files already downloaded and verified\n",
      "Files already downloaded and verified\n"
     ]
    },
    {
     "name": "stderr",
     "output_type": "stream",
     "text": [
      "Restoring states from the checkpoint path at /home/khq.kitware.com/emily.veenhuis/xaitk-cdao/examples/lightning/lightning_logs/version_76/checkpoints/epoch=4-step=880.ckpt\n",
      "LOCAL_RANK: 0 - CUDA_VISIBLE_DEVICES: [0,1,2,3]\n",
      "Loaded model weights from checkpoint at /home/khq.kitware.com/emily.veenhuis/xaitk-cdao/examples/lightning/lightning_logs/version_76/checkpoints/epoch=4-step=880.ckpt\n",
      "/home/khq.kitware.com/emily.veenhuis/miniconda3/envs/pytorch-lightning-test/lib/python3.9/site-packages/pytorch_lightning/trainer/connectors/data_connector.py:224: PossibleUserWarning: The dataloader, predict_dataloader 0, does not have many workers which may be a bottleneck. Consider increasing the value of the `num_workers` argument` (try 20 which is the number of cpus on this machine) in the `DataLoader` init to improve performance.\n",
      "  rank_zero_warn(\n"
     ]
    },
    {
     "data": {
      "application/vnd.jupyter.widget-view+json": {
       "model_id": "5063f54840ae47d7ac90e0f2982a6586",
       "version_major": 2,
       "version_minor": 0
      },
      "text/plain": [
       "Predicting: 176it [00:00, ?it/s]"
      ]
     },
     "metadata": {},
     "output_type": "display_data"
    },
    {
     "name": "stderr",
     "output_type": "stream",
     "text": [
      "Clipping input data to the valid range for imshow with RGB data ([0..1] for floats or [0..255] for integers).\n",
      "Clipping input data to the valid range for imshow with RGB data ([0..1] for floats or [0..255] for integers).\n",
      "Clipping input data to the valid range for imshow with RGB data ([0..1] for floats or [0..255] for integers).\n",
      "Clipping input data to the valid range for imshow with RGB data ([0..1] for floats or [0..255] for integers).\n",
      "Clipping input data to the valid range for imshow with RGB data ([0..1] for floats or [0..255] for integers).\n"
     ]
    },
    {
     "data": {
      "image/png": "[encoded data removed]",
      "text/plain": [
       "<Figure size 1000x500 with 11 Axes>"
      ]
     },
     "metadata": {},
     "output_type": "display_data"
    },
    {
     "data": {
      "image/png": "[encoded data removed]",
      "text/plain": [
       "<Figure size 1000x500 with 11 Axes>"
      ]
     },
     "metadata": {},
     "output_type": "display_data"
    },
    {
     "data": {
      "image/png": "[encoded data removed]",
      "text/plain": [
       "<Figure size 1000x500 with 11 Axes>"
      ]
     },
     "metadata": {},
     "output_type": "display_data"
    },
    {
     "data": {
      "image/png": "[encoded data removed]",
      "text/plain": [
       "<Figure size 1000x500 with 11 Axes>"
      ]
     },
     "metadata": {},
     "output_type": "display_data"
    },
    {
     "data": {
      "image/png": "[encoded data removed]",
      "text/plain": [
       "<Figure size 1000x500 with 11 Axes>"
      ]
     },
     "metadata": {},
     "output_type": "display_data"
    }
   ],
   "source": [
    "preds = cifar10_trainer.predict(ckpt_path='best', datamodule=cifar10_dm)"
   ]
  }
 ],
 "metadata": {
  "kernelspec": {
   "display_name": "Python 3 (ipykernel)",
   "language": "python",
   "name": "python3"
  },
  "language_info": {
   "codemirror_mode": {
    "name": "ipython",
    "version": 3
   },
   "file_extension": ".py",
   "mimetype": "text/x-python",
   "name": "python",
   "nbconvert_exporter": "python",
   "pygments_lexer": "ipython3",
   "version": "3.9.13"
  },
  "toc-showmarkdowntxt": false
 },
 "nbformat": 4,
 "nbformat_minor": 5
}
