{
 "cells": [
  {
   "cell_type": "markdown",
   "id": "0bb9e6d3",
   "metadata": {},
   "source": [
    "# Exploring the Effects of Perturbations on Saliency Map Generation\n",
    "\n",
    "The link between saliency maps and model generalization is currently unclear. This is a simple notebook exploring how perturbations might effect saliency maps.\n",
    "\n",
    "## Table Of Contents\n",
    "* [Environment Setup](#environment-setup)\n",
    "* [Example Images](#example-images)\n",
    "* [Defining the \"Application\"](#defining-the-application)\n",
    "* [Running the \"Application\"](#running-the-application)\n",
    "    * [Classifier](#classifier)\n",
    "    * [Saliency Generator](#saliency-generator)\n",
    "    * [Results](#results)\n",
    "\n",
    "To run this notebook in Colab, use the link below:\n",
    "\n",
    "[![Open In Colab](https://colab.research.google.com/assets/colab-badge.svg)](https://colab.research.google.com/github/Kitware/xaitk-jatic/blob/main/docs/examples/jatic-perturbations.ipynb)"
   ]
  },
  {
   "cell_type": "markdown",
   "id": "97ccca9e",
   "metadata": {},
   "source": [
    "## Environment Setup <a name=\"environment-setup\"></a>\n",
    "\n",
    "**Note for Colab users**: After setting up the environment, you may need to \"Restart Runtime\" in order to resolve package version conflicts (see the [README](https://github.com/Kitware/xaitk-jatic/blob/main/docs/examples/README.md#run-the-notebooks-from-colab) for more info)."
   ]
  },
  {
   "cell_type": "code",
   "execution_count": 1,
   "id": "c17af860",
   "metadata": {},
   "outputs": [
    {
     "name": "stdout",
     "output_type": "stream",
     "text": [
      "Installing xaitk-jatic...\n",
      "Installing albumentations...\n",
      "Installing Hugging Face datasets...\n",
      "Installing Hugging Face transformers...\n",
      "Installing tabulate...\n",
      "Installing torch...\n",
      "Installing torchvision...\n",
      "Installing matplotlib...\n",
      "Installing headless OpenCV...\n",
      "\u001b[33mWARNING: Skipping opencv-python as it is not installed.\u001b[0m\u001b[33m\n",
      "\u001b[0mDone!\n"
     ]
    }
   ],
   "source": [
    "import sys  # noqa:F401\n",
    "\n",
    "!{sys.executable} -m pip install -qU pip\n",
    "print(\"Installing xaitk-jatic...\")\n",
    "!{sys.executable} -m pip install -q xaitk-jatic\n",
    "print(\"Installing albumentations...\")\n",
    "!{sys.executable} -m pip install -q \"albumentations\"\n",
    "print(\"Installing Hugging Face datasets...\")\n",
    "!{sys.executable} -m pip install -qU datasets fsspec huggingface_hub\n",
    "print(\"Installing Hugging Face transformers...\")\n",
    "!{sys.executable} -m pip install -q transformers\n",
    "print(\"Installing tabulate...\")\n",
    "!{sys.executable} -m pip install -q tabulate\n",
    "print(\"Installing torch...\")\n",
    "!{sys.executable} -m pip install -q torch\n",
    "print(\"Installing torchvision...\")\n",
    "!{sys.executable} -m pip -q install torchvision\n",
    "print(\"Installing matplotlib...\")\n",
    "!{sys.executable} -m pip install -q matplotlib\n",
    "print(\"Installing headless OpenCV...\")\n",
    "!{sys.executable} -m pip uninstall -qy opencv-python opencv-python-headless  # make sure they're both gone.\n",
    "!{sys.executable} -m pip install -q opencv-python-headless\n",
    "print(\"Done!\")"
   ]
  },
  {
   "cell_type": "code",
   "execution_count": 2,
   "id": "57abbba9",
   "metadata": {},
   "outputs": [
    {
     "name": "stderr",
     "output_type": "stream",
     "text": [
      "/home/local/KHQ/stephen.crowell/.cache/pypoetry/virtualenvs/xaitk-jatic-OReYJURx-py3.10/lib/python3.10/site-packages/tqdm/auto.py:21: TqdmWarning: IProgress not found. Please update jupyter and ipywidgets. See https://ipywidgets.readthedocs.io/en/stable/user_install.html\n",
      "  from .autonotebook import tqdm as notebook_tqdm\n"
     ]
    }
   ],
   "source": [
    "%matplotlib inline\n",
    "from collections.abc import Hashable, Sequence\n",
    "from dataclasses import dataclass, field\n",
    "from typing import Any, Optional\n",
    "\n",
    "import albumentations as album  # type: ignore\n",
    "import maite.protocols.image_classification as ic\n",
    "import numpy as np\n",
    "import torch  # type: ignore\n",
    "from datasets import load_dataset  # type: ignore\n",
    "from maite.protocols import ModelMetadata\n",
    "from matplotlib import pyplot as plt  # type: ignore\n",
    "from scipy.stats import entropy\n",
    "from smqtk_classifier.interfaces.classify_image import ClassifyImage\n",
    "from tabulate import tabulate\n",
    "from transformers import (  # type:ignore\n",
    "    AutoImageProcessor,  # type: ignore\n",
    "    AutoModelForImageClassification,  # type: ignore\n",
    ")\n",
    "from xaitk_saliency.impls.gen_image_classifier_blackbox_sal.slidingwindow import SlidingWindowStack\n",
    "from xaitk_saliency.interfaces.gen_image_classifier_blackbox_sal import GenerateImageClassifierBlackboxSaliency\n",
    "\n",
    "from xaitk_jatic.interop.image_classification.model import JATICImageClassifier"
   ]
  },
  {
   "cell_type": "markdown",
   "id": "bd60017b",
   "metadata": {},
   "source": [
    "## Example Images <a name=\"example-images\"></a>\n",
    "\n",
    "We'll use example images from the CIFAR-10 test dataset, but this could be expanded to many images -- even across a dataset."
   ]
  },
  {
   "cell_type": "code",
   "execution_count": 3,
   "id": "8f525698",
   "metadata": {},
   "outputs": [],
   "source": [
    "data = load_dataset(\"cifar10\", split=\"test\")\n",
    "labels = data.features[\"label\"].names  # type: ignore\n",
    "\n",
    "data.set_transform(lambda x: {\"image\": x[\"img\"], \"label\": x[\"label\"]})  # type: ignore"
   ]
  },
  {
   "cell_type": "code",
   "execution_count": 4,
   "id": "598153a4",
   "metadata": {},
   "outputs": [
    {
     "data": {
      "image/png": "[encoded data removed]",
      "text/plain": [
       "<Figure size 200x200 with 1 Axes>"
      ]
     },
     "metadata": {},
     "output_type": "display_data"
    },
    {
     "data": {
      "image/png": "[encoded data removed]",
      "text/plain": [
       "<Figure size 200x200 with 1 Axes>"
      ]
     },
     "metadata": {},
     "output_type": "display_data"
    }
   ],
   "source": [
    "num_samples = 2\n",
    "imgs = np.asarray([np.asarray(data[idx][\"image\"]) for idx in range(num_samples)])  # type:ignore\n",
    "ground_truth: list[int] = [data[idx][\"label\"] for idx in range(num_samples)]  # type: ignore\n",
    "\n",
    "for img, gt in zip(imgs, ground_truth):\n",
    "    plt.figure(figsize=(2, 2))\n",
    "    plt.xticks(())\n",
    "    plt.yticks(())\n",
    "    plt.xlabel(f\"GT: {labels[gt]}\")\n",
    "    _ = plt.imshow(img)"
   ]
  },
  {
   "cell_type": "markdown",
   "id": "0c7a74b9",
   "metadata": {},
   "source": [
    "## Defining the \"Application\" <a name=\"defining-the-application\"></a>\n",
    "\n",
    "First we'll define a couple of dataclasses to keep track of results more easily:"
   ]
  },
  {
   "cell_type": "code",
   "execution_count": 5,
   "id": "816797b6",
   "metadata": {},
   "outputs": [],
   "source": [
    "@dataclass\n",
    "class PerturbationResult:\n",
    "    \"\"\"\n",
    "    Represents the results of a perturbation applied to an image, including the descriptor,\n",
    "    modified image, saliency maps, and prediction details.\n",
    "\n",
    "    Attributes:\n",
    "        descriptor (str): A textual description of the perturbation applied (e.g., \"ksize=3\").\n",
    "        img (np.ndarray): The perturbed image.\n",
    "        sal_maps (np.ndarray): The saliency maps for the perturbed image.\n",
    "        pred_class (int): The predicted class index for the perturbed image.\n",
    "        pred_prob (float): The predicted probability for the predicted class.\n",
    "    \"\"\"\n",
    "\n",
    "    descriptor: str\n",
    "    img: np.ndarray\n",
    "    sal_maps: np.ndarray\n",
    "    pred_class: int\n",
    "    pred_prob: float\n",
    "\n",
    "\n",
    "@dataclass\n",
    "class SaliencyResults:\n",
    "    \"\"\"\n",
    "    Represents the saliency results for a reference image, including its saliency maps,\n",
    "    ground truth, predictions, and perturbation results.\n",
    "\n",
    "    Attributes:\n",
    "        ref_img (np.ndarray): The reference image.\n",
    "        ref_sal_maps (np.ndarray): The saliency maps for the reference image.\n",
    "        gt (int): The ground truth class index for the reference image.\n",
    "        pred_class (int): The predicted class index for the reference image.\n",
    "        pred_prob (float): The predicted probability for the predicted class.\n",
    "        perturbations (List[PerturbationResult]): A list of `PerturbationResult` objects representing\n",
    "            the results of perturbations applied to the reference image.\n",
    "    \"\"\"\n",
    "\n",
    "    ref_img: np.ndarray\n",
    "    ref_sal_maps: np.ndarray\n",
    "    gt: int\n",
    "    pred_class: int\n",
    "    pred_prob: float\n",
    "    perturbations: list[PerturbationResult] = field(default_factory=list)"
   ]
  },
  {
   "cell_type": "markdown",
   "id": "f6c165e6",
   "metadata": {},
   "source": [
    "Next, we'll define a function to compute specified metrics upon our saliency map results."
   ]
  },
  {
   "cell_type": "code",
   "execution_count": 6,
   "id": "3ab98959",
   "metadata": {},
   "outputs": [],
   "source": [
    "def compute_metrics(results: list[SaliencyResults], metrics: tuple[str, ...]) -> None:  # noqa:C901\n",
    "    \"\"\"\n",
    "    Computes and displays specified metrics for saliency maps and their perturbations.\n",
    "\n",
    "    Args:\n",
    "        results (List[SaliencyResults]): List of saliency results, including reference images,\n",
    "            saliency maps, and perturbation results.\n",
    "        labels (Sequence[Hashable]): Sequence of class labels corresponding to class indices.\n",
    "        metrics (tuple[str, ...]): tuple of metric names to compute. Supported metrics:\n",
    "            - \"Entropy\"\n",
    "            - \"Pos Saliency Entropy\"\n",
    "            - \"Neg Saliency Entropy\"\n",
    "            - \"SSD\"\n",
    "            - \"XCorr\"\n",
    "\n",
    "    Returns:\n",
    "        None\n",
    "    \"\"\"\n",
    "\n",
    "    def _compute_entropy(sal_map: np.ndarray, clip_min: Optional[float], clip_max: Optional[float]) -> float:\n",
    "        \"\"\"\n",
    "        Computes the entropy of a saliency map.\n",
    "\n",
    "        Args:\n",
    "            sal_map (np.ndarray): The saliency map.\n",
    "            clip_min (float): Minimum clipping value.\n",
    "            clip_max (float): Maximum clipping value.\n",
    "\n",
    "        Returns:\n",
    "            float: The entropy of the saliency map.\n",
    "        \"\"\"\n",
    "        if clip_min is not None or clip_max is not None:\n",
    "            s = np.clip(sal_map, clip_min, clip_max)\n",
    "        else:\n",
    "            s = (sal_map - sal_map.min()) / (sal_map.max() - sal_map.min())\n",
    "        return entropy(s.ravel(), base=2)  # type: ignore\n",
    "\n",
    "    def _compute_ssd(sal_map: np.ndarray, ref_sal_map: np.ndarray) -> float:\n",
    "        \"\"\"\n",
    "        Computes the sum of squared differences (SSD) between two saliency maps.\n",
    "\n",
    "        Args:\n",
    "            sal_map (np.ndarray): The saliency map.\n",
    "            ref_sal_map (np.ndarray): The reference saliency map.\n",
    "\n",
    "        Returns:\n",
    "            float: The SSD value.\n",
    "        \"\"\"\n",
    "        sum_sq_diff = np.sum(np.power(np.subtract(sal_map, ref_sal_map), 2))\n",
    "        norm = np.sqrt(np.sum(np.power(sal_map, 2)) * np.sum(np.power(ref_sal_map, 2)))\n",
    "        if not norm:\n",
    "            return np.inf\n",
    "        return sum_sq_diff / norm\n",
    "\n",
    "    def _compute_xcorr(sal_map: np.ndarray, ref_sal_map: np.ndarray) -> float:\n",
    "        \"\"\"\n",
    "        Computes the normalized cross-correlation between two saliency maps.\n",
    "\n",
    "        Args:\n",
    "            sal_map (np.ndarray): The saliency map.\n",
    "            ref_sal_map (np.ndarray): The reference saliency map.\n",
    "\n",
    "        Returns:\n",
    "            float: The cross-correlation value.\n",
    "        \"\"\"\n",
    "\n",
    "        def _normalize(s: np.ndarray) -> tuple[np.ndarray, bool]:\n",
    "            s -= s.mean()\n",
    "            std = s.std()\n",
    "\n",
    "            if std:\n",
    "                s /= std\n",
    "\n",
    "            return s, std == 0\n",
    "\n",
    "        s_1, c_1 = _normalize(sal_map.copy())\n",
    "        s_2, c_2 = _normalize(ref_sal_map.copy())\n",
    "\n",
    "        if c_1 and not c_2:\n",
    "            return 0.0\n",
    "        return np.corrcoef(s_1.flatten(), s_2.flatten())[0, 1]\n",
    "\n",
    "    def _compute_metric(sal_map: np.ndarray, ref_sal_map: np.ndarray, m: str) -> float:  # noqa:C901\n",
    "        \"\"\"\n",
    "        Computes a specific metric for a saliency map.\n",
    "\n",
    "        Args:\n",
    "            sal_map (np.ndarray): The saliency map.\n",
    "            ref_sal_map (np.ndarray): The reference saliency map.\n",
    "            m (str): The name of the metric.\n",
    "\n",
    "        Returns:\n",
    "            float: The computed metric value.\n",
    "        \"\"\"\n",
    "        if m == \"entropy\":\n",
    "            return _compute_entropy(sal_map, None, None)\n",
    "        if m == \"pos saliency entropy\":\n",
    "            return _compute_entropy(sal_map, 0, 1)\n",
    "        if m == \"neg saliency entropy\":\n",
    "            return _compute_entropy(sal_map, -1, 0)\n",
    "        if m == \"ssd\":\n",
    "            return _compute_ssd(sal_map, ref_sal_map)\n",
    "        if m == \"xcorr\":\n",
    "            return _compute_xcorr(sal_map, ref_sal_map)\n",
    "        return np.nan\n",
    "\n",
    "    def _generate_row(sal_map: np.ndarray, ref_sal_map: np.ndarray, row_label: str) -> list[Hashable]:\n",
    "        \"\"\"\n",
    "        Generates a row of metric values for a saliency map.\n",
    "\n",
    "        Args:\n",
    "            sal_map (np.ndarray): The saliency map.\n",
    "            ref_sal_map (np.ndarray): The reference saliency map.\n",
    "            row_label (str): Label for the row.\n",
    "\n",
    "        Returns:\n",
    "            List[Hashable]: A list containing the row label and computed metrics.\n",
    "        \"\"\"\n",
    "        r: list[Hashable] = [row_label]\n",
    "\n",
    "        r.extend([(_compute_metric(sal_map, ref_sal_map, metric.lower().strip())) for metric in metrics])\n",
    "        return r\n",
    "\n",
    "    headers = [\"Perturbation\"]\n",
    "    headers.extend(list(metrics))\n",
    "    for res in results:\n",
    "        rows = []\n",
    "\n",
    "        rows.append(_generate_row(res.ref_sal_maps[res.gt], res.ref_sal_maps[res.gt], \"Ref Image\"))\n",
    "\n",
    "        rows = [\n",
    "            _generate_row(pert.sal_maps[res.gt], res.ref_sal_maps[res.gt], f\"{pert.descriptor}\")\n",
    "            for pert in res.perturbations\n",
    "        ]\n",
    "\n",
    "        print(tabulate(rows, headers=headers, tablefmt=\"fancy_grid\"))"
   ]
  },
  {
   "cell_type": "markdown",
   "id": "cf1ab311",
   "metadata": {},
   "source": [
    "We'll also define a function to display all generated saliency maps."
   ]
  },
  {
   "cell_type": "code",
   "execution_count": 7,
   "id": "7e0d8b28",
   "metadata": {},
   "outputs": [],
   "source": [
    "def display_results(results: list[SaliencyResults], labels: Sequence[Hashable]) -> None:  # noqa:C901\n",
    "    \"\"\"\n",
    "    Displays saliency maps and associated images for a set of results.\n",
    "\n",
    "    Args:\n",
    "        results (List[SaliencyResults]): A list of saliency results, including reference images,\n",
    "            saliency maps, and perturbation results.\n",
    "        labels (Sequence[Hashable]): A sequence of class labels corresponding to the indices of classes.\n",
    "\n",
    "    Returns:\n",
    "        None\n",
    "    \"\"\"\n",
    "    num_classes = len(labels)\n",
    "\n",
    "    def _plot_img(img: np.ndarray, descriptor: str = \"\") -> None:\n",
    "        \"\"\"\n",
    "        Plots a single reference image.\n",
    "\n",
    "        Args:\n",
    "            img (np.ndarray): The reference image to be plotted.\n",
    "            descriptor (str, optional): A description to label the image. Defaults to \"\".\n",
    "\n",
    "        Returns:\n",
    "            None\n",
    "        \"\"\"\n",
    "        plt.subplot(2, num_cols, 1)\n",
    "        plt.imshow(img, cmap=\"gray\")\n",
    "        plt.xticks(())\n",
    "        plt.yticks(())\n",
    "        plt.xlabel(descriptor)\n",
    "\n",
    "    def _plot_rows(sal_maps: np.ndarray, plot_idxes: Optional[list[int]] = None) -> None:\n",
    "        \"\"\"\n",
    "        Plots rows of saliency maps.\n",
    "\n",
    "        Args:\n",
    "            sal_maps (np.ndarray): The saliency maps to be plotted.\n",
    "            plot_idxes (Optional[List[int]], optional): Indices of the saliency maps to be plotted.\n",
    "                If None, plots all saliency maps. Defaults to None.\n",
    "\n",
    "        Returns:\n",
    "            None\n",
    "        \"\"\"\n",
    "        plot_idxes = list(range(len(sal_maps))) if plot_idxes is None else [*set(plot_idxes)]\n",
    "        n_cols = min(num_cols - 1, len(plot_idxes))\n",
    "        n_rows = 2\n",
    "\n",
    "        num_imgs = 0\n",
    "        for r in range(n_rows):\n",
    "            col_offset = 2\n",
    "            if r > 0:\n",
    "                col_offset = 3\n",
    "            for c in range(r * n_cols, min(r * n_cols + n_cols, len(plot_idxes))):\n",
    "                plt.subplot(n_rows, num_cols, c + col_offset)\n",
    "                im = plt.imshow(sal_maps[plot_idxes[c]], cmap=plt.cm.RdBu, vmin=-1, vmax=1)  # type: ignore\n",
    "                plt.xticks(())\n",
    "                plt.yticks(())\n",
    "                plt.xlabel(f\"{labels[plot_idxes[c]]}\")\n",
    "                num_imgs += 1\n",
    "\n",
    "                if num_imgs == len(plot_idxes):\n",
    "                    fig = plt.gcf()\n",
    "                    cax = fig.add_axes((0.38, 0.60, 0.01, 0.21))  # type: ignore # tweaked for this particular example\n",
    "                    plt.colorbar(im, cax=cax)\n",
    "\n",
    "    for res in results:\n",
    "        plt.figure(figsize=(10, 5))\n",
    "        num_cols = np.ceil(num_classes / 2).astype(int) + 1\n",
    "        pred = f\"{labels[res.pred_class]} ({res.pred_prob:.2f})\"\n",
    "        _plot_img(res.ref_img, f\"Ref Img\\nGT: {labels[res.gt]}\\nPred: {pred}\")\n",
    "        _plot_rows(res.ref_sal_maps, [res.gt])\n",
    "\n",
    "        for pert in res.perturbations:\n",
    "            plt.figure(figsize=(10, 5))\n",
    "            pred = f\"{labels[pert.pred_class]} ({pert.pred_prob:.2f})\"\n",
    "            _plot_img(pert.img, f\"{pert.descriptor}\\nPred: {pred}\")\n",
    "            _plot_rows(pert.sal_maps, [res.gt])\n",
    "\n",
    "    plt.show()"
   ]
  },
  {
   "cell_type": "markdown",
   "id": "379a38b7",
   "metadata": {},
   "source": [
    "Finally, we'll define the \"application\" which perturbs the given input image(s) to varying degrees and generates saliency maps. In this case, we'll perturb the images using a Gaussian Blur while varying the `ksize` parameter to achieve different levels of degradation."
   ]
  },
  {
   "cell_type": "code",
   "execution_count": 8,
   "id": "4bfcb226",
   "metadata": {},
   "outputs": [],
   "source": [
    "def generate_perturbed_sal_maps(  # noqa:C901\n",
    "    images: np.ndarray,\n",
    "    ground_truth: list[int],\n",
    "    image_classifier: ClassifyImage,\n",
    "    saliency_generator: GenerateImageClassifierBlackboxSaliency,\n",
    "    ksizes: tuple[int, ...],\n",
    "    display_maps: bool = True,\n",
    "    metrics: tuple[str, ...] = (\"Pos Saliency Entropy\", \"Neg Saliency Entropy\", \"Entropy\", \"SSD\", \"XCorr\"),\n",
    ") -> list[SaliencyResults]:\n",
    "    \"\"\"\n",
    "    Generates saliency maps for reference images and perturbed versions, computes metrics,\n",
    "    and optionally displays the saliency maps.\n",
    "\n",
    "    Args:\n",
    "        images (np.ndarray): Array of input images (shape: [batch_size, height, width, channels]).\n",
    "        ground_truth (list[int]): list of ground truth class indices for the input images.\n",
    "        image_classifier (ClassifyImage): The image classifier to generate predictions.\n",
    "        saliency_generator (GenerateImageClassifierBlackboxSaliency): The saliency generator to compute saliency maps.\n",
    "        ksizes (tuple[int, ...]): tuple of kernel sizes for perturbations.\n",
    "        display_maps (bool, optional): Whether to display saliency maps for each image. Defaults to True.\n",
    "        metrics (tuple[str, ...], optional): list of metric names to compute. Defaults to\n",
    "            (\"Pos Saliency Entropy\", \"Neg Saliency Entropy\", \"Entropy\", \"SSD\", \"XCorr\").\n",
    "\n",
    "    Returns:\n",
    "        list[SaliencyResults]: A list of `SaliencyResults` containing saliency maps, predictions,\n",
    "        and perturbation results for each input image.\n",
    "    \"\"\"\n",
    "    # Get class labels\n",
    "    labels = image_classifier.get_labels()\n",
    "\n",
    "    def _max_class(probs: dict[str, Any]) -> str:\n",
    "        v = list(probs.values())\n",
    "        k = list(probs.keys())\n",
    "        return k[v.index(max(v))]\n",
    "\n",
    "    # Generate saliency maps\n",
    "    results = list()\n",
    "    for idx, img in enumerate(images):\n",
    "        print(f\"Generating saliency maps for reference image (image {idx + 1} of {len(images)})\")\n",
    "        sal_maps = saliency_generator(img, image_classifier)\n",
    "        probs = next(image_classifier.classify_images(np.expand_dims(img, axis=0)))\n",
    "        pred_class = _max_class(probs)\n",
    "        res = SaliencyResults(\n",
    "            ref_img=np.copy(img),\n",
    "            ref_sal_maps=sal_maps,\n",
    "            gt=ground_truth[idx],\n",
    "            pred_class=labels.index(pred_class),\n",
    "            pred_prob=probs[pred_class],\n",
    "        )\n",
    "\n",
    "        for k in ksizes:\n",
    "            print(f\"Generating saliency maps for ksize={k} (ref image {idx + 1} of {len(images)})\")\n",
    "            gaussian_blur = album.GaussianBlur(blur_limit=(k, k), p=1.0)\n",
    "            img_out = gaussian_blur(image=np.copy(img))[\"image\"]\n",
    "            sal_maps = saliency_generator(img_out, image_classifier)\n",
    "            probs = next(image_classifier.classify_images(np.expand_dims(img_out, axis=0)))\n",
    "            pred_class = _max_class(probs)\n",
    "\n",
    "            pert = PerturbationResult(\n",
    "                descriptor=f\"ksize={k}\",\n",
    "                img=img_out,\n",
    "                sal_maps=sal_maps,\n",
    "                pred_class=labels.index(pred_class),\n",
    "                pred_prob=probs[pred_class],\n",
    "            )\n",
    "\n",
    "            res.perturbations.append(pert)\n",
    "\n",
    "        results.append(res)\n",
    "\n",
    "    for result in results:\n",
    "        # Plot each image in set with saliency maps\n",
    "        if display_maps:\n",
    "            display_results([result], labels)\n",
    "\n",
    "        # Compute metrics\n",
    "        compute_metrics([result], metrics)\n",
    "\n",
    "    return results"
   ]
  },
  {
   "cell_type": "markdown",
   "id": "1af89d1a",
   "metadata": {},
   "source": [
    "## Running the \"Application\" <a name=\"running-the-application\"></a>"
   ]
  },
  {
   "cell_type": "markdown",
   "id": "c6e3bfd2",
   "metadata": {},
   "source": [
    "### Classifier <a name=\"classifier\"></a>\n",
    "\n",
    "We'll use a JATIC protocol-based classifier, along with the relevant `xaitk-saliency` adapter. We define a protocol-based classifier here, but this can be any protocol-compliant classifier."
   ]
  },
  {
   "cell_type": "code",
   "execution_count": 9,
   "id": "b999701b-1859-4310-a662-9409616a5f5b",
   "metadata": {},
   "outputs": [
    {
     "name": "stderr",
     "output_type": "stream",
     "text": [
      "Using a slow image processor as `use_fast` is unset and a slow processor was saved with this model. `use_fast=True` will be the default behavior in v4.52, even if the model was saved with a slow processor. This will result in minor differences in outputs. You'll still be able to use a slow processor with `use_fast=False`.\n"
     ]
    }
   ],
   "source": [
    "class HuggingFaceClassifier:\n",
    "    \"\"\"\n",
    "    A Hugging Face-based image classifier that uses pre-trained image classification models.\n",
    "\n",
    "    Attributes:\n",
    "        image_processor (AutoImageProcessor): The processor for preparing input images for the model.\n",
    "        model (AutoModelForImageClassification): The pre-trained Hugging Face model for image classification.\n",
    "        device (str): The device on which the model will run (e.g., \"cpu\" or \"cuda\").\n",
    "    \"\"\"\n",
    "\n",
    "    def __init__(self, model_name: str, device: str) -> None:\n",
    "        \"\"\"\n",
    "        Initializes the HuggingFaceClassifier with a pre-trained model and a device.\n",
    "\n",
    "        Args:\n",
    "            model_name (str): The name of the pre-trained model from Hugging Face.\n",
    "            device (str): The device to use for running the model (e.g., \"cpu\" or \"cuda\").\n",
    "        \"\"\"\n",
    "        self.image_processor = AutoImageProcessor.from_pretrained(model_name)\n",
    "        self.model = AutoModelForImageClassification.from_pretrained(model_name)\n",
    "        self.device = device\n",
    "\n",
    "        self.model.eval()\n",
    "        self.model.to(device)\n",
    "\n",
    "        self.metadata = ModelMetadata(\n",
    "            id=model_name,\n",
    "            index2label=self.model.config.id2label,\n",
    "        )\n",
    "\n",
    "    def id2label(self) -> dict[int, Hashable]:\n",
    "        \"\"\"\n",
    "        Retrieves the mapping of class IDs to labels from the model's configuration.\n",
    "\n",
    "        Returns:\n",
    "            Dict[int, Hashable]: A dictionary mapping class IDs to human-readable labels.\n",
    "        \"\"\"\n",
    "        return self.model.config.id2label\n",
    "\n",
    "    def __call__(self, batch: Sequence[ic.InputType]) -> Sequence[ic.TargetType]:\n",
    "        \"\"\"\n",
    "        Processes a batch of images and returns the model's predictions.\n",
    "\n",
    "        Args:\n",
    "            batch (Sequence[ic.InputType]): A batch of images in the format required by the model.\n",
    "\n",
    "        Raises:\n",
    "            ValueError: If the input batch does not have 4 dimensions (batch_size, channels, height, width).\n",
    "\n",
    "        Returns:\n",
    "            Sequence[ic.TargetType]: The predicted class probabilities for the batch.\n",
    "        \"\"\"\n",
    "        # tensor bridging\n",
    "        model_input = torch.as_tensor(batch)\n",
    "        if model_input.ndim != 4:\n",
    "            raise ValueError(\"number of input dimensions should be 4\")\n",
    "\n",
    "        # preprocess\n",
    "        hf_inputs = self.image_processor(model_input, return_tensors=\"pt\")\n",
    "\n",
    "        # put on device\n",
    "        hf_inputs = hf_inputs.to(self.device)\n",
    "\n",
    "        # get predictions\n",
    "        with torch.no_grad():\n",
    "            return self.model(**hf_inputs).logits.softmax(1).detach().cpu()\n",
    "\n",
    "\n",
    "jatic_classifier: ic.Model = HuggingFaceClassifier(\n",
    "    model_name=\"aaraki/vit-base-patch16-224-in21k-finetuned-cifar10\",\n",
    "    device=\"cuda\" if torch.cuda.is_available() else \"cpu\",\n",
    ")"
   ]
  },
  {
   "cell_type": "code",
   "execution_count": 10,
   "id": "0f83873f",
   "metadata": {},
   "outputs": [],
   "source": [
    "classifier = JATICImageClassifier(classifier=jatic_classifier, ids=list(jatic_classifier.id2label()))"
   ]
  },
  {
   "cell_type": "markdown",
   "id": "a547f1b9",
   "metadata": {},
   "source": [
    "### Saliency Generator <a name=\"saliency-generator\"></a>\n",
    "\n",
    "We'll use the `SlidingWindowStack` blackbox saliency generator."
   ]
  },
  {
   "cell_type": "code",
   "execution_count": 11,
   "id": "7c7f0dc0",
   "metadata": {},
   "outputs": [],
   "source": [
    "sal_generator = SlidingWindowStack(window_size=(4, 4), stride=(2, 2), threads=4)\n",
    "sal_generator.fill = (128, 128, 128)"
   ]
  },
  {
   "cell_type": "markdown",
   "id": "6d02fc2d",
   "metadata": {},
   "source": [
    "### Results <a name=\"results\"></a>\n",
    "\n",
    "Note: for clarity, we'll only be performing the saliency analysis with respect to the groundtruth class, but this analysis could also be applied to the predicted class, which may be useful in cases where the groundtruth and predictions may differ."
   ]
  },
  {
   "cell_type": "code",
   "execution_count": 12,
   "id": "1c85eec6",
   "metadata": {},
   "outputs": [
    {
     "name": "stdout",
     "output_type": "stream",
     "text": [
      "Generating saliency maps for reference image (image 1 of 2)\n"
     ]
    },
    {
     "name": "stderr",
     "output_type": "stream",
     "text": [
      "/tmp/ipykernel_11955/488075423.py:54: UserWarning: Creating a tensor from a list of numpy.ndarrays is extremely slow. Please consider converting the list to a single numpy.ndarray with numpy.array() before converting to a tensor. (Triggered internally at /pytorch/torch/csrc/utils/tensor_new.cpp:254.)\n",
      "  model_input = torch.as_tensor(batch)\n"
     ]
    },
    {
     "name": "stdout",
     "output_type": "stream",
     "text": [
      "Generating saliency maps for ksize=3 (ref image 1 of 2)\n",
      "Generating saliency maps for ksize=5 (ref image 1 of 2)\n",
      "Generating saliency maps for ksize=7 (ref image 1 of 2)\n",
      "Generating saliency maps for reference image (image 2 of 2)\n",
      "Generating saliency maps for ksize=3 (ref image 2 of 2)\n",
      "Generating saliency maps for ksize=5 (ref image 2 of 2)\n",
      "Generating saliency maps for ksize=7 (ref image 2 of 2)\n"
     ]
    },
    {
     "data": {
      "image/png": "[encoded data removed]",
      "text/plain": [
       "<Figure size 1000x500 with 3 Axes>"
      ]
     },
     "metadata": {},
     "output_type": "display_data"
    },
    {
     "data": {
      "image/png": "[encoded data removed]",
      "text/plain": [
       "<Figure size 1000x500 with 3 Axes>"
      ]
     },
     "metadata": {},
     "output_type": "display_data"
    },
    {
     "data": {
      "image/png": "[encoded data removed]",
      "text/plain": [
       "<Figure size 1000x500 with 3 Axes>"
      ]
     },
     "metadata": {},
     "output_type": "display_data"
    },
    {
     "data": {
      "image/png": "[encoded data removed]",
      "text/plain": [
       "<Figure size 1000x500 with 3 Axes>"
      ]
     },
     "metadata": {},
     "output_type": "display_data"
    },
    {
     "name": "stdout",
     "output_type": "stream",
     "text": [
      "╒════════════════╤════════════════════════╤════════════════════════╤═══════════╤══════════╤═══════════╕\n",
      "│ Perturbation   │   Pos Saliency Entropy │   Neg Saliency Entropy │   Entropy │      SSD │     XCorr │\n",
      "╞════════════════╪════════════════════════╪════════════════════════╪═══════════╪══════════╪═══════════╡\n",
      "│ ksize=3        │                2.70386 │                9.86286 │   9.84062 │ 3.39139  │  0.339857 │\n",
      "├────────────────┼────────────────────────┼────────────────────────┼───────────┼──────────┼───────────┤\n",
      "│ ksize=5        │                8.61761 │                8.65606 │   9.81809 │ 0.288431 │  0.938541 │\n",
      "├────────────────┼────────────────────────┼────────────────────────┼───────────┼──────────┼───────────┤\n",
      "│ ksize=7        │              nan       │                9.98855 │   9.77003 │ 4.5243   │ -0.282467 │\n",
      "╘════════════════╧════════════════════════╧════════════════════════╧═══════════╧══════════╧═══════════╛\n"
     ]
    },
    {
     "data": {
      "image/png": "[encoded data removed]",
      "text/plain": [
       "<Figure size 1000x500 with 3 Axes>"
      ]
     },
     "metadata": {},
     "output_type": "display_data"
    },
    {
     "data": {
      "image/png": "[encoded data removed]",
      "text/plain": [
       "<Figure size 1000x500 with 3 Axes>"
      ]
     },
     "metadata": {},
     "output_type": "display_data"
    },
    {
     "data": {
      "image/png": "[encoded data removed]",
      "text/plain": [
       "<Figure size 1000x500 with 3 Axes>"
      ]
     },
     "metadata": {},
     "output_type": "display_data"
    },
    {
     "data": {
      "image/png": "[encoded data removed]",
      "text/plain": [
       "<Figure size 1000x500 with 3 Axes>"
      ]
     },
     "metadata": {},
     "output_type": "display_data"
    },
    {
     "name": "stdout",
     "output_type": "stream",
     "text": [
      "╒════════════════╤════════════════════════╤════════════════════════╤═══════════╤══════════╤══════════╕\n",
      "│ Perturbation   │   Pos Saliency Entropy │   Neg Saliency Entropy │   Entropy │      SSD │    XCorr │\n",
      "╞════════════════╪════════════════════════╪════════════════════════╪═══════════╪══════════╪══════════╡\n",
      "│ ksize=3        │                9.88264 │                    nan │   9.85858 │ 0.313572 │ 0.277473 │\n",
      "├────────────────┼────────────────────────┼────────────────────────┼───────────┼──────────┼──────────┤\n",
      "│ ksize=5        │                9.56479 │                    nan │   9.52052 │ 0.869349 │ 0.371523 │\n",
      "├────────────────┼────────────────────────┼────────────────────────┼───────────┼──────────┼──────────┤\n",
      "│ ksize=7        │                9.88845 │                    nan │   9.86452 │ 0.333266 │ 0.406747 │\n",
      "╘════════════════╧════════════════════════╧════════════════════════╧═══════════╧══════════╧══════════╛\n"
     ]
    }
   ],
   "source": [
    "results = generate_perturbed_sal_maps(\n",
    "    images=imgs,\n",
    "    ground_truth=ground_truth,\n",
    "    image_classifier=classifier,\n",
    "    saliency_generator=sal_generator,\n",
    "    ksizes=(3, 5, 7),\n",
    ")"
   ]
  },
  {
   "cell_type": "markdown",
   "id": "e83d9e4b",
   "metadata": {},
   "source": [
    "We can visually see that as the quality of the input image degrades (more perturbation), the quality of the generated saliency maps similarly degrades.\n",
    "\n",
    "In an attempt to quantify these differences, we've also computed several metrics:\n",
    "\n",
    "#### Entropy <a name=\"entropy\"></a>\n",
    "\n",
    "If we compare entropy values using both positive and negative saliency we don't see much of a change across degradations. This is likely due to negative and positive saliency \"fighting\" each other as degradation increases (as one increases, the other decreases).\n",
    "\n",
    "If we consider entropy values computed from only positive or only negative saliency values, we see differences in values. Looking at the dominant saliency type (i.e. negative/red for the cat, positive/blue for the ship), we can see that as degradation gets worse, entropy reduces -- to a certain point. The reduction in entropy likely corresponds to the classifier being less able to identify key features that led to the original probability distribution for the reference image due to the degradion. Eventually these features may become so degraded that the classifier begins predicting with very low confidence or nan values if there are no instances of the dominant saliency type. \n",
    "\n",
    "If we look at the opposite saliency type for each reference image, we see a very slight increase in entropy as degradation increases. This potentially indicates that the degradation introduces noise that the classifier misidentifies as a contraindicator for the ground truth class, but more likely corresponds to the classifier predicting with less confidence due to the loss in higher quality features.\n",
    "\n",
    "#### Sum of Squared Differences (SSD) <a name=\"ssd\"></a>\n",
    "\n",
    "(0 is most similar) The sum of squared differences lets us quantitatively confirm that as degradation gets worse, saliency maps are increasiningly dissimilar to the original reference saliency map. However, the metric doesn't give us much insight into what is actually happening to create these differences.\n",
    "\n",
    "#### Cross-Correlation (XCorr) <a name=\"cross-correlation\"></a>\n",
    "\n",
    "(1 is most similar) Cross-correlations tell us similar information as SSD. The introduction of negative correlation values, however, potentially indicates that the saliency maps begin to become the \"opposite\" of the original reference saliency maps. The aligns with the pattern we saw with positive/negative saliency entropy -- we see an introduction of the opposite saliency as the image becomes more degraded and the classifier becomes more confused. The likely doesn't occur with the ship reference image as it was more strongly salient in one direction compared to the cat reference image was contained a more balanced mix of both positive and negative saliency."
   ]
  }
 ],
 "metadata": {
  "kernelspec": {
   "display_name": "xaitk-jatic-OReYJURx-py3.10",
   "language": "python",
   "name": "python3"
  },
  "language_info": {
   "codemirror_mode": {
    "name": "ipython",
    "version": 3
   },
   "file_extension": ".py",
   "mimetype": "text/x-python",
   "name": "python",
   "nbconvert_exporter": "python",
   "pygments_lexer": "ipython3",
   "version": "3.10.12"
  }
 },
 "nbformat": 4,
 "nbformat_minor": 5
}
